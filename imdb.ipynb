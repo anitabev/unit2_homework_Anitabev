{
 "cells": [
  {
   "cell_type": "markdown",
   "metadata": {},
   "source": [
    "<img src=\"http://imgur.com/1ZcRyrc.png\" style=\"float: left; margin: 20px; height: 55px\">\n",
    "\n",
    "# Project 2: Analyzing IMDb Data\n",
    "\n",
    "_Author: Kevin Markham (DC)_\n",
    "\n",
    "---"
   ]
  },
  {
   "cell_type": "markdown",
   "metadata": {},
   "source": [
    "For project two, you will complete a series of exercises exploring movie rating data from IMDb.\n",
    "\n",
    "For these exercises, you will be conducting basic exploratory data analysis on IMDB's movie data, looking to answer such questions as:\n",
    "\n",
    "What is the average rating per genre?\n",
    "How many different actors are in a movie?\n",
    "\n",
    "This process will help you practice your data analysis skills while becoming comfortable with Pandas."
   ]
  },
  {
   "cell_type": "markdown",
   "metadata": {},
   "source": [
    "## Basic level"
   ]
  },
  {
   "cell_type": "code",
   "execution_count": 1,
   "metadata": {},
   "outputs": [],
   "source": [
    "import pandas as pd\n",
    "import matplotlib.pyplot as plt\n",
    "%matplotlib inline"
   ]
  },
  {
   "cell_type": "markdown",
   "metadata": {},
   "source": [
    "#### Read in 'imdb_1000.csv' and store it in a DataFrame named movies."
   ]
  },
  {
   "cell_type": "code",
   "execution_count": 81,
   "metadata": {},
   "outputs": [
    {
     "data": {
      "text/html": [
       "<div>\n",
       "<style scoped>\n",
       "    .dataframe tbody tr th:only-of-type {\n",
       "        vertical-align: middle;\n",
       "    }\n",
       "\n",
       "    .dataframe tbody tr th {\n",
       "        vertical-align: top;\n",
       "    }\n",
       "\n",
       "    .dataframe thead th {\n",
       "        text-align: right;\n",
       "    }\n",
       "</style>\n",
       "<table border=\"1\" class=\"dataframe\">\n",
       "  <thead>\n",
       "    <tr style=\"text-align: right;\">\n",
       "      <th></th>\n",
       "      <th>star_rating</th>\n",
       "      <th>title</th>\n",
       "      <th>content_rating</th>\n",
       "      <th>genre</th>\n",
       "      <th>duration</th>\n",
       "      <th>actors_list</th>\n",
       "    </tr>\n",
       "  </thead>\n",
       "  <tbody>\n",
       "    <tr>\n",
       "      <th>0</th>\n",
       "      <td>9.3</td>\n",
       "      <td>The Shawshank Redemption</td>\n",
       "      <td>R</td>\n",
       "      <td>Crime</td>\n",
       "      <td>142</td>\n",
       "      <td>[u'Tim Robbins', u'Morgan Freeman', u'Bob Gunt...</td>\n",
       "    </tr>\n",
       "    <tr>\n",
       "      <th>1</th>\n",
       "      <td>9.2</td>\n",
       "      <td>The Godfather</td>\n",
       "      <td>R</td>\n",
       "      <td>Crime</td>\n",
       "      <td>175</td>\n",
       "      <td>[u'Marlon Brando', u'Al Pacino', u'James Caan']</td>\n",
       "    </tr>\n",
       "    <tr>\n",
       "      <th>2</th>\n",
       "      <td>9.1</td>\n",
       "      <td>The Godfather: Part II</td>\n",
       "      <td>R</td>\n",
       "      <td>Crime</td>\n",
       "      <td>200</td>\n",
       "      <td>[u'Al Pacino', u'Robert De Niro', u'Robert Duv...</td>\n",
       "    </tr>\n",
       "    <tr>\n",
       "      <th>3</th>\n",
       "      <td>9.0</td>\n",
       "      <td>The Dark Knight</td>\n",
       "      <td>PG-13</td>\n",
       "      <td>Action</td>\n",
       "      <td>152</td>\n",
       "      <td>[u'Christian Bale', u'Heath Ledger', u'Aaron E...</td>\n",
       "    </tr>\n",
       "    <tr>\n",
       "      <th>4</th>\n",
       "      <td>8.9</td>\n",
       "      <td>Pulp Fiction</td>\n",
       "      <td>R</td>\n",
       "      <td>Crime</td>\n",
       "      <td>154</td>\n",
       "      <td>[u'John Travolta', u'Uma Thurman', u'Samuel L....</td>\n",
       "    </tr>\n",
       "  </tbody>\n",
       "</table>\n",
       "</div>"
      ],
      "text/plain": [
       "   star_rating                     title content_rating   genre  duration  \\\n",
       "0          9.3  The Shawshank Redemption              R   Crime       142   \n",
       "1          9.2             The Godfather              R   Crime       175   \n",
       "2          9.1    The Godfather: Part II              R   Crime       200   \n",
       "3          9.0           The Dark Knight          PG-13  Action       152   \n",
       "4          8.9              Pulp Fiction              R   Crime       154   \n",
       "\n",
       "                                         actors_list  \n",
       "0  [u'Tim Robbins', u'Morgan Freeman', u'Bob Gunt...  \n",
       "1    [u'Marlon Brando', u'Al Pacino', u'James Caan']  \n",
       "2  [u'Al Pacino', u'Robert De Niro', u'Robert Duv...  \n",
       "3  [u'Christian Bale', u'Heath Ledger', u'Aaron E...  \n",
       "4  [u'John Travolta', u'Uma Thurman', u'Samuel L....  "
      ]
     },
     "execution_count": 81,
     "metadata": {},
     "output_type": "execute_result"
    }
   ],
   "source": [
    "movies = pd.read_csv('./data/imdb_1000.csv')\n",
    "movies.head()"
   ]
  },
  {
   "cell_type": "markdown",
   "metadata": {},
   "source": [
    "#### Check the number of rows and columns."
   ]
  },
  {
   "cell_type": "code",
   "execution_count": 3,
   "metadata": {
    "collapsed": true
   },
   "outputs": [
    {
     "data": {
      "text/plain": [
       "(979, 6)"
      ]
     },
     "execution_count": 3,
     "metadata": {},
     "output_type": "execute_result"
    }
   ],
   "source": [
    "# Answer:\n",
    "movies.shape"
   ]
  },
  {
   "cell_type": "markdown",
   "metadata": {},
   "source": [
    "#### Check the data type of each column."
   ]
  },
  {
   "cell_type": "code",
   "execution_count": 4,
   "metadata": {
    "collapsed": true
   },
   "outputs": [
    {
     "data": {
      "text/plain": [
       "star_rating       float64\n",
       "title              object\n",
       "content_rating     object\n",
       "genre              object\n",
       "duration            int64\n",
       "actors_list        object\n",
       "dtype: object"
      ]
     },
     "execution_count": 4,
     "metadata": {},
     "output_type": "execute_result"
    }
   ],
   "source": [
    "# Answer:\n",
    "movies.dtypes"
   ]
  },
  {
   "cell_type": "markdown",
   "metadata": {},
   "source": [
    "#### Calculate the average movie duration."
   ]
  },
  {
   "cell_type": "code",
   "execution_count": 5,
   "metadata": {
    "collapsed": true
   },
   "outputs": [
    {
     "data": {
      "text/plain": [
       "120.97957099080695"
      ]
     },
     "execution_count": 5,
     "metadata": {},
     "output_type": "execute_result"
    }
   ],
   "source": [
    "# Answer:\n",
    "movies.loc[:,'duration'].mean()"
   ]
  },
  {
   "cell_type": "markdown",
   "metadata": {},
   "source": [
    "#### Sort the DataFrame by duration to find the shortest and longest movies."
   ]
  },
  {
   "cell_type": "code",
   "execution_count": 6,
   "metadata": {
    "collapsed": true
   },
   "outputs": [
    {
     "data": {
      "text/html": [
       "<div>\n",
       "<style scoped>\n",
       "    .dataframe tbody tr th:only-of-type {\n",
       "        vertical-align: middle;\n",
       "    }\n",
       "\n",
       "    .dataframe tbody tr th {\n",
       "        vertical-align: top;\n",
       "    }\n",
       "\n",
       "    .dataframe thead th {\n",
       "        text-align: right;\n",
       "    }\n",
       "</style>\n",
       "<table border=\"1\" class=\"dataframe\">\n",
       "  <thead>\n",
       "    <tr style=\"text-align: right;\">\n",
       "      <th></th>\n",
       "      <th>star_rating</th>\n",
       "      <th>title</th>\n",
       "      <th>content_rating</th>\n",
       "      <th>genre</th>\n",
       "      <th>duration</th>\n",
       "      <th>actors_list</th>\n",
       "    </tr>\n",
       "  </thead>\n",
       "  <tbody>\n",
       "    <tr>\n",
       "      <th>389</th>\n",
       "      <td>8.0</td>\n",
       "      <td>Freaks</td>\n",
       "      <td>UNRATED</td>\n",
       "      <td>Drama</td>\n",
       "      <td>64</td>\n",
       "      <td>[u'Wallace Ford', u'Leila Hyams', u'Olga Bacla...</td>\n",
       "    </tr>\n",
       "    <tr>\n",
       "      <th>476</th>\n",
       "      <td>7.8</td>\n",
       "      <td>Hamlet</td>\n",
       "      <td>PG-13</td>\n",
       "      <td>Drama</td>\n",
       "      <td>242</td>\n",
       "      <td>[u'Kenneth Branagh', u'Julie Christie', u'Dere...</td>\n",
       "    </tr>\n",
       "  </tbody>\n",
       "</table>\n",
       "</div>"
      ],
      "text/plain": [
       "     star_rating   title content_rating  genre  duration  \\\n",
       "389          8.0  Freaks        UNRATED  Drama        64   \n",
       "476          7.8  Hamlet          PG-13  Drama       242   \n",
       "\n",
       "                                           actors_list  \n",
       "389  [u'Wallace Ford', u'Leila Hyams', u'Olga Bacla...  \n",
       "476  [u'Kenneth Branagh', u'Julie Christie', u'Dere...  "
      ]
     },
     "execution_count": 6,
     "metadata": {},
     "output_type": "execute_result"
    }
   ],
   "source": [
    "# Answer:\n",
    "movies.sort_values('duration').iloc[[0, -1], :]"
   ]
  },
  {
   "cell_type": "markdown",
   "metadata": {},
   "source": [
    "#### Create a histogram of duration, choosing an \"appropriate\" number of bins."
   ]
  },
  {
   "cell_type": "code",
   "execution_count": 7,
   "metadata": {
    "collapsed": true
   },
   "outputs": [
    {
     "data": {
      "image/png": "[encoded data removed]",
      "text/plain": [
       "<Figure size 432x288 with 1 Axes>"
      ]
     },
     "metadata": {
      "needs_background": "light"
     },
     "output_type": "display_data"
    }
   ],
   "source": [
    "# Answer:\n",
    "ax = movies.loc[:,'duration'].plot(kind = 'hist', bins = 40).set_title('Movie Duration Histogram', fontsize = 20);"
   ]
  },
  {
   "cell_type": "markdown",
   "metadata": {},
   "source": [
    "#### Use a box plot to display that same data."
   ]
  },
  {
   "cell_type": "code",
   "execution_count": 8,
   "metadata": {
    "collapsed": true
   },
   "outputs": [
    {
     "data": {
      "image/png": "[encoded data removed]",
      "text/plain": [
       "<Figure size 432x288 with 1 Axes>"
      ]
     },
     "metadata": {
      "needs_background": "light"
     },
     "output_type": "display_data"
    }
   ],
   "source": [
    "# Answer:\n",
    "ax = movies.loc[:,'duration'].plot(kind = 'box').set_title('Movie Duration Box Plot', fontsize = 20);"
   ]
  },
  {
   "cell_type": "markdown",
   "metadata": {},
   "source": [
    "## Intermediate level"
   ]
  },
  {
   "cell_type": "markdown",
   "metadata": {},
   "source": [
    "#### Count how many movies have each of the content ratings."
   ]
  },
  {
   "cell_type": "code",
   "execution_count": 9,
   "metadata": {
    "collapsed": true
   },
   "outputs": [
    {
     "data": {
      "text/plain": [
       "R            460\n",
       "PG-13        189\n",
       "PG           123\n",
       "NOT RATED     65\n",
       "APPROVED      47\n",
       "UNRATED       38\n",
       "G             32\n",
       "PASSED         7\n",
       "NC-17          7\n",
       "X              4\n",
       "GP             3\n",
       "TV-MA          1\n",
       "Name: content_rating, dtype: int64"
      ]
     },
     "execution_count": 9,
     "metadata": {},
     "output_type": "execute_result"
    }
   ],
   "source": [
    "# Answer:\n",
    "ax = movies.loc[:,'content_rating'].value_counts()\n",
    "ax"
   ]
  },
  {
   "cell_type": "markdown",
   "metadata": {},
   "source": [
    "#### Use a visualization to display that same data, including a title and x and y labels."
   ]
  },
  {
   "cell_type": "code",
   "execution_count": 10,
   "metadata": {
    "collapsed": true
   },
   "outputs": [
    {
     "data": {
      "image/png": "[encoded data removed]",
      "text/plain": [
       "<Figure size 432x288 with 1 Axes>"
      ]
     },
     "metadata": {
      "needs_background": "light"
     },
     "output_type": "display_data"
    }
   ],
   "source": [
    "# Answer:\n",
    "axes = ax.plot(kind='bar')\n",
    "axes.set_title('Movie Content Ratings', fontsize=20)\n",
    "axes.legend(loc=0)\n",
    "axes.set_ylabel('number of movies', fontsize =16)\n",
    "axes.set_xlabel('movie content rating', fontsize = 16);"
   ]
  },
  {
   "cell_type": "markdown",
   "metadata": {},
   "source": [
    "#### Convert the following content ratings to \"UNRATED\": NOT RATED, APPROVED, PASSED, GP."
   ]
  },
  {
   "cell_type": "code",
   "execution_count": 11,
   "metadata": {},
   "outputs": [
    {
     "ename": "SyntaxError",
     "evalue": "invalid syntax (<ipython-input-11-058da6e1728d>, line 2)",
     "output_type": "error",
     "traceback": [
      "\u001b[0;36m  File \u001b[0;32m\"<ipython-input-11-058da6e1728d>\"\u001b[0;36m, line \u001b[0;32m2\u001b[0m\n\u001b[0;31m    ax.rename({'NOT RATED', 'APPROVED','PASSED', 'GP':'UNRATED' })\u001b[0m\n\u001b[0m                                                     ^\u001b[0m\n\u001b[0;31mSyntaxError\u001b[0m\u001b[0;31m:\u001b[0m invalid syntax\n"
     ]
    }
   ],
   "source": [
    "# Answer:\n",
    "ax.rename({'NOT RATED', 'APPROVED','PASSED', 'GP':'UNRATED' })"
   ]
  },
  {
   "cell_type": "markdown",
   "metadata": {},
   "source": [
    "#### Convert the following content ratings to \"NC-17\": X, TV-MA."
   ]
  },
  {
   "cell_type": "code",
   "execution_count": 12,
   "metadata": {
    "collapsed": true
   },
   "outputs": [
    {
     "data": {
      "text/plain": [
       "{'content_ratings': {'X': 'NC-17', 'TV-MA': 'NC-17'}}"
      ]
     },
     "execution_count": 12,
     "metadata": {},
     "output_type": "execute_result"
    }
   ],
   "source": [
    "# Answer:\n",
    "{'content_ratings': {'X': 'NC-17', 'TV-MA': 'NC-17'}}\n"
   ]
  },
  {
   "cell_type": "markdown",
   "metadata": {},
   "source": [
    "#### Count the number of missing values in each column."
   ]
  },
  {
   "cell_type": "code",
   "execution_count": 13,
   "metadata": {
    "collapsed": true
   },
   "outputs": [
    {
     "data": {
      "text/plain": [
       "star_rating       0\n",
       "title             0\n",
       "content_rating    3\n",
       "genre             0\n",
       "duration          0\n",
       "actors_list       0\n",
       "dtype: int64"
      ]
     },
     "execution_count": 13,
     "metadata": {},
     "output_type": "execute_result"
    }
   ],
   "source": [
    "# Answer:\n",
    "movies.loc[:, :].isnull().sum()"
   ]
  },
  {
   "cell_type": "markdown",
   "metadata": {},
   "source": [
    "#### If there are missing values: examine them, then fill them in with \"reasonable\" values."
   ]
  },
  {
   "cell_type": "code",
   "execution_count": 14,
   "metadata": {
    "collapsed": true
   },
   "outputs": [],
   "source": [
    "# Answer:\n",
    "movies.loc[:, 'content_rating'].value_counts(dropna=False) \n",
    "movies.loc[:, 'content_rating'].fillna(value='NOT RATED', inplace=True)"
   ]
  },
  {
   "cell_type": "markdown",
   "metadata": {},
   "source": [
    "#### Calculate the average star rating for movies 2 hours or longer, and compare that with the average star rating for movies shorter than 2 hours."
   ]
  },
  {
   "cell_type": "code",
   "execution_count": 15,
   "metadata": {
    "collapsed": true
   },
   "outputs": [
    {
     "name": "stdout",
     "output_type": "stream",
     "text": [
      "7.948898678414097\n",
      "7.838666666666665\n"
     ]
    }
   ],
   "source": [
    "# Answer:\n",
    "long_movie_rating = movies.loc[(movies['duration']>= 120), 'star_rating'].mean()\n",
    "short_movie_rating = movies.loc[(movies['duration']< 120), 'star_rating'].mean()\n",
    "print (long_movie_rating)\n",
    "print (short_movie_rating)"
   ]
  },
  {
   "cell_type": "markdown",
   "metadata": {},
   "source": [
    "#### Use a visualization to detect whether there is a relationship between duration and star rating."
   ]
  },
  {
   "cell_type": "code",
   "execution_count": 16,
   "metadata": {
    "collapsed": true
   },
   "outputs": [
    {
     "data": {
      "image/png": "[encoded data removed]",
      "text/plain": [
       "<Figure size 432x288 with 1 Axes>"
      ]
     },
     "metadata": {
      "needs_background": "light"
     },
     "output_type": "display_data"
    }
   ],
   "source": [
    "# Answer:\n",
    "axes = movies.plot(kind='scatter', x='duration', y='star_rating', alpha =0.3)"
   ]
  },
  {
   "cell_type": "markdown",
   "metadata": {},
   "source": [
    "#### Calculate the average duration for each genre."
   ]
  },
  {
   "cell_type": "code",
   "execution_count": 17,
   "metadata": {
    "collapsed": true
   },
   "outputs": [
    {
     "data": {
      "text/plain": [
       "genre\n",
       "Action       126.485294\n",
       "Adventure    134.840000\n",
       "Animation     96.596774\n",
       "Biography    131.844156\n",
       "Comedy       107.602564\n",
       "Crime        122.298387\n",
       "Drama        126.539568\n",
       "Family       107.500000\n",
       "Fantasy      112.000000\n",
       "Film-Noir     97.333333\n",
       "History       66.000000\n",
       "Horror       102.517241\n",
       "Mystery      115.625000\n",
       "Sci-Fi       109.000000\n",
       "Thriller     114.200000\n",
       "Western      136.666667\n",
       "Name: duration, dtype: float64"
      ]
     },
     "execution_count": 17,
     "metadata": {},
     "output_type": "execute_result"
    }
   ],
   "source": [
    "# Answer: \n",
    "movies.groupby('genre')['duration'].mean()"
   ]
  },
  {
   "cell_type": "markdown",
   "metadata": {},
   "source": [
    "## Advanced level"
   ]
  },
  {
   "cell_type": "markdown",
   "metadata": {},
   "source": [
    "#### Visualize the relationship between content rating and duration."
   ]
  },
  {
   "cell_type": "code",
   "execution_count": 26,
   "metadata": {},
   "outputs": [
    {
     "data": {
      "image/png": "[encoded data removed]",
      "text/plain": [
       "<Figure size 432x288 with 1 Axes>"
      ]
     },
     "metadata": {
      "needs_background": "light"
     },
     "output_type": "display_data"
    }
   ],
   "source": [
    "ax = movies.groupby('content_rating')['duration'].mean().plot(kind='barh', stacked = True)"
   ]
  },
  {
   "cell_type": "markdown",
   "metadata": {},
   "source": [
    "#### Determine the top rated movie (by star rating) for each genre."
   ]
  },
  {
   "cell_type": "code",
   "execution_count": 82,
   "metadata": {},
   "outputs": [
    {
     "data": {
      "text/html": [
       "<div>\n",
       "<style scoped>\n",
       "    .dataframe tbody tr th:only-of-type {\n",
       "        vertical-align: middle;\n",
       "    }\n",
       "\n",
       "    .dataframe tbody tr th {\n",
       "        vertical-align: top;\n",
       "    }\n",
       "\n",
       "    .dataframe thead th {\n",
       "        text-align: right;\n",
       "    }\n",
       "</style>\n",
       "<table border=\"1\" class=\"dataframe\">\n",
       "  <thead>\n",
       "    <tr style=\"text-align: right;\">\n",
       "      <th></th>\n",
       "      <th>star_rating</th>\n",
       "      <th>title</th>\n",
       "    </tr>\n",
       "    <tr>\n",
       "      <th>genre</th>\n",
       "      <th></th>\n",
       "      <th></th>\n",
       "    </tr>\n",
       "  </thead>\n",
       "  <tbody>\n",
       "    <tr>\n",
       "      <th>Action</th>\n",
       "      <td>9.0</td>\n",
       "      <td>Yojimbo</td>\n",
       "    </tr>\n",
       "    <tr>\n",
       "      <th>Adventure</th>\n",
       "      <td>8.9</td>\n",
       "      <td>True Grit</td>\n",
       "    </tr>\n",
       "    <tr>\n",
       "      <th>Animation</th>\n",
       "      <td>8.6</td>\n",
       "      <td>Wreck-It Ralph</td>\n",
       "    </tr>\n",
       "    <tr>\n",
       "      <th>Biography</th>\n",
       "      <td>8.9</td>\n",
       "      <td>Walk the Line</td>\n",
       "    </tr>\n",
       "    <tr>\n",
       "      <th>Comedy</th>\n",
       "      <td>8.6</td>\n",
       "      <td>Zombieland</td>\n",
       "    </tr>\n",
       "    <tr>\n",
       "      <th>Crime</th>\n",
       "      <td>9.3</td>\n",
       "      <td>Zodiac</td>\n",
       "    </tr>\n",
       "    <tr>\n",
       "      <th>Drama</th>\n",
       "      <td>8.9</td>\n",
       "      <td>Zulu</td>\n",
       "    </tr>\n",
       "    <tr>\n",
       "      <th>Family</th>\n",
       "      <td>7.9</td>\n",
       "      <td>Willy Wonka &amp; the Chocolate Factory</td>\n",
       "    </tr>\n",
       "    <tr>\n",
       "      <th>Fantasy</th>\n",
       "      <td>7.7</td>\n",
       "      <td>The City of Lost Children</td>\n",
       "    </tr>\n",
       "    <tr>\n",
       "      <th>Film-Noir</th>\n",
       "      <td>8.3</td>\n",
       "      <td>The Third Man</td>\n",
       "    </tr>\n",
       "    <tr>\n",
       "      <th>History</th>\n",
       "      <td>8.0</td>\n",
       "      <td>Battleship Potemkin</td>\n",
       "    </tr>\n",
       "    <tr>\n",
       "      <th>Horror</th>\n",
       "      <td>8.6</td>\n",
       "      <td>[Rec]</td>\n",
       "    </tr>\n",
       "    <tr>\n",
       "      <th>Mystery</th>\n",
       "      <td>8.6</td>\n",
       "      <td>Vertigo</td>\n",
       "    </tr>\n",
       "    <tr>\n",
       "      <th>Sci-Fi</th>\n",
       "      <td>8.2</td>\n",
       "      <td>The Day the Earth Stood Still</td>\n",
       "    </tr>\n",
       "    <tr>\n",
       "      <th>Thriller</th>\n",
       "      <td>8.0</td>\n",
       "      <td>The Man Who Knew Too Much</td>\n",
       "    </tr>\n",
       "    <tr>\n",
       "      <th>Western</th>\n",
       "      <td>8.9</td>\n",
       "      <td>Unforgiven</td>\n",
       "    </tr>\n",
       "  </tbody>\n",
       "</table>\n",
       "</div>"
      ],
      "text/plain": [
       "           star_rating                                title\n",
       "genre                                                      \n",
       "Action             9.0                              Yojimbo\n",
       "Adventure          8.9                            True Grit\n",
       "Animation          8.6                       Wreck-It Ralph\n",
       "Biography          8.9                        Walk the Line\n",
       "Comedy             8.6                           Zombieland\n",
       "Crime              9.3                               Zodiac\n",
       "Drama              8.9                                 Zulu\n",
       "Family             7.9  Willy Wonka & the Chocolate Factory\n",
       "Fantasy            7.7            The City of Lost Children\n",
       "Film-Noir          8.3                        The Third Man\n",
       "History            8.0                  Battleship Potemkin\n",
       "Horror             8.6                                [Rec]\n",
       "Mystery            8.6                              Vertigo\n",
       "Sci-Fi             8.2        The Day the Earth Stood Still\n",
       "Thriller           8.0            The Man Who Knew Too Much\n",
       "Western            8.9                           Unforgiven"
      ]
     },
     "execution_count": 82,
     "metadata": {},
     "output_type": "execute_result"
    }
   ],
   "source": [
    "# Answer:\n",
    "\n",
    "movies.groupby('genre')['star_rating', 'title'].max()\n"
   ]
  },
  {
   "cell_type": "markdown",
   "metadata": {},
   "source": [
    "#### Check if there are multiple movies with the same title, and if so, determine if they are actually duplicates."
   ]
  },
  {
   "cell_type": "code",
   "execution_count": 52,
   "metadata": {},
   "outputs": [
    {
     "data": {
      "text/html": [
       "<div>\n",
       "<style scoped>\n",
       "    .dataframe tbody tr th:only-of-type {\n",
       "        vertical-align: middle;\n",
       "    }\n",
       "\n",
       "    .dataframe tbody tr th {\n",
       "        vertical-align: top;\n",
       "    }\n",
       "\n",
       "    .dataframe thead th {\n",
       "        text-align: right;\n",
       "    }\n",
       "</style>\n",
       "<table border=\"1\" class=\"dataframe\">\n",
       "  <thead>\n",
       "    <tr style=\"text-align: right;\">\n",
       "      <th></th>\n",
       "      <th>title</th>\n",
       "      <th>content_rating</th>\n",
       "      <th>genre</th>\n",
       "      <th>actors_list</th>\n",
       "    </tr>\n",
       "  </thead>\n",
       "  <tbody>\n",
       "    <tr>\n",
       "      <th>count</th>\n",
       "      <td>979</td>\n",
       "      <td>979</td>\n",
       "      <td>979</td>\n",
       "      <td>979</td>\n",
       "    </tr>\n",
       "    <tr>\n",
       "      <th>unique</th>\n",
       "      <td>975</td>\n",
       "      <td>12</td>\n",
       "      <td>16</td>\n",
       "      <td>969</td>\n",
       "    </tr>\n",
       "    <tr>\n",
       "      <th>top</th>\n",
       "      <td>Dracula</td>\n",
       "      <td>R</td>\n",
       "      <td>Drama</td>\n",
       "      <td>[u'Daniel Radcliffe', u'Emma Watson', u'Rupert...</td>\n",
       "    </tr>\n",
       "    <tr>\n",
       "      <th>freq</th>\n",
       "      <td>2</td>\n",
       "      <td>460</td>\n",
       "      <td>278</td>\n",
       "      <td>6</td>\n",
       "    </tr>\n",
       "  </tbody>\n",
       "</table>\n",
       "</div>"
      ],
      "text/plain": [
       "          title content_rating  genre  \\\n",
       "count       979            979    979   \n",
       "unique      975             12     16   \n",
       "top     Dracula              R  Drama   \n",
       "freq          2            460    278   \n",
       "\n",
       "                                              actors_list  \n",
       "count                                                 979  \n",
       "unique                                                969  \n",
       "top     [u'Daniel Radcliffe', u'Emma Watson', u'Rupert...  \n",
       "freq                                                    6  "
      ]
     },
     "execution_count": 52,
     "metadata": {},
     "output_type": "execute_result"
    }
   ],
   "source": [
    "movies.describe(include='object')"
   ]
  },
  {
   "cell_type": "code",
   "execution_count": 88,
   "metadata": {
    "collapsed": true
   },
   "outputs": [
    {
     "data": {
      "text/html": [
       "<div>\n",
       "<style scoped>\n",
       "    .dataframe tbody tr th:only-of-type {\n",
       "        vertical-align: middle;\n",
       "    }\n",
       "\n",
       "    .dataframe tbody tr th {\n",
       "        vertical-align: top;\n",
       "    }\n",
       "\n",
       "    .dataframe thead th {\n",
       "        text-align: right;\n",
       "    }\n",
       "</style>\n",
       "<table border=\"1\" class=\"dataframe\">\n",
       "  <thead>\n",
       "    <tr style=\"text-align: right;\">\n",
       "      <th></th>\n",
       "      <th>star_rating</th>\n",
       "      <th>content_rating</th>\n",
       "      <th>genre</th>\n",
       "      <th>duration</th>\n",
       "      <th>actors_list</th>\n",
       "    </tr>\n",
       "    <tr>\n",
       "      <th>title</th>\n",
       "      <th></th>\n",
       "      <th></th>\n",
       "      <th></th>\n",
       "      <th></th>\n",
       "      <th></th>\n",
       "    </tr>\n",
       "  </thead>\n",
       "  <tbody>\n",
       "    <tr>\n",
       "      <th>Dracula</th>\n",
       "      <td>2</td>\n",
       "      <td>2</td>\n",
       "      <td>2</td>\n",
       "      <td>2</td>\n",
       "      <td>2</td>\n",
       "    </tr>\n",
       "    <tr>\n",
       "      <th>Les Miserables</th>\n",
       "      <td>2</td>\n",
       "      <td>2</td>\n",
       "      <td>2</td>\n",
       "      <td>2</td>\n",
       "      <td>2</td>\n",
       "    </tr>\n",
       "    <tr>\n",
       "      <th>The Girl with the Dragon Tattoo</th>\n",
       "      <td>2</td>\n",
       "      <td>2</td>\n",
       "      <td>2</td>\n",
       "      <td>2</td>\n",
       "      <td>2</td>\n",
       "    </tr>\n",
       "    <tr>\n",
       "      <th>True Grit</th>\n",
       "      <td>2</td>\n",
       "      <td>1</td>\n",
       "      <td>2</td>\n",
       "      <td>2</td>\n",
       "      <td>2</td>\n",
       "    </tr>\n",
       "  </tbody>\n",
       "</table>\n",
       "</div>"
      ],
      "text/plain": [
       "                                 star_rating  content_rating  genre  duration  \\\n",
       "title                                                                           \n",
       "Dracula                                    2               2      2         2   \n",
       "Les Miserables                             2               2      2         2   \n",
       "The Girl with the Dragon Tattoo            2               2      2         2   \n",
       "True Grit                                  2               1      2         2   \n",
       "\n",
       "                                 actors_list  \n",
       "title                                         \n",
       "Dracula                                    2  \n",
       "Les Miserables                             2  \n",
       "The Girl with the Dragon Tattoo            2  \n",
       "True Grit                                  2  "
      ]
     },
     "execution_count": 88,
     "metadata": {},
     "output_type": "execute_result"
    }
   ],
   "source": [
    "# Answer This first finds the duplicate titles:\n",
    "movie_titles = movies.groupby('title').count()\n",
    "duplicate_movies = movie_titles.loc[(movie_titles['star_rating']==2)]\n",
    "duplicate_movies"
   ]
  },
  {
   "cell_type": "code",
   "execution_count": 89,
   "metadata": {},
   "outputs": [
    {
     "data": {
      "text/html": [
       "<div>\n",
       "<style scoped>\n",
       "    .dataframe tbody tr th:only-of-type {\n",
       "        vertical-align: middle;\n",
       "    }\n",
       "\n",
       "    .dataframe tbody tr th {\n",
       "        vertical-align: top;\n",
       "    }\n",
       "\n",
       "    .dataframe thead th {\n",
       "        text-align: right;\n",
       "    }\n",
       "</style>\n",
       "<table border=\"1\" class=\"dataframe\">\n",
       "  <thead>\n",
       "    <tr style=\"text-align: right;\">\n",
       "      <th></th>\n",
       "      <th>star_rating</th>\n",
       "      <th>content_rating</th>\n",
       "      <th>genre</th>\n",
       "      <th>duration</th>\n",
       "      <th>actors_list</th>\n",
       "    </tr>\n",
       "    <tr>\n",
       "      <th>title</th>\n",
       "      <th></th>\n",
       "      <th></th>\n",
       "      <th></th>\n",
       "      <th></th>\n",
       "      <th></th>\n",
       "    </tr>\n",
       "  </thead>\n",
       "  <tbody>\n",
       "    <tr>\n",
       "      <th>Dracula</th>\n",
       "      <td>7.6</td>\n",
       "      <td>APPROVED</td>\n",
       "      <td>Horror</td>\n",
       "      <td>85</td>\n",
       "      <td>[u'Bela Lugosi', u'Helen Chandler', u'David Ma...</td>\n",
       "    </tr>\n",
       "    <tr>\n",
       "      <th>Dracula</th>\n",
       "      <td>7.5</td>\n",
       "      <td>R</td>\n",
       "      <td>Horror</td>\n",
       "      <td>128</td>\n",
       "      <td>[u'Gary Oldman', u'Winona Ryder', u'Anthony Ho...</td>\n",
       "    </tr>\n",
       "    <tr>\n",
       "      <th>True Grit</th>\n",
       "      <td>7.7</td>\n",
       "      <td>PG-13</td>\n",
       "      <td>Adventure</td>\n",
       "      <td>110</td>\n",
       "      <td>[u'Jeff Bridges', u'Matt Damon', u'Hailee Stei...</td>\n",
       "    </tr>\n",
       "    <tr>\n",
       "      <th>True Grit</th>\n",
       "      <td>7.4</td>\n",
       "      <td>NaN</td>\n",
       "      <td>Adventure</td>\n",
       "      <td>128</td>\n",
       "      <td>[u'John Wayne', u'Kim Darby', u'Glen Campbell']</td>\n",
       "    </tr>\n",
       "    <tr>\n",
       "      <th>The Girl with the Dragon Tattoo</th>\n",
       "      <td>7.9</td>\n",
       "      <td>R</td>\n",
       "      <td>Crime</td>\n",
       "      <td>158</td>\n",
       "      <td>[u'Daniel Craig', u'Rooney Mara', u'Christophe...</td>\n",
       "    </tr>\n",
       "    <tr>\n",
       "      <th>The Girl with the Dragon Tattoo</th>\n",
       "      <td>7.8</td>\n",
       "      <td>R</td>\n",
       "      <td>Crime</td>\n",
       "      <td>152</td>\n",
       "      <td>[u'Michael Nyqvist', u'Noomi Rapace', u'Ewa Fr...</td>\n",
       "    </tr>\n",
       "    <tr>\n",
       "      <th>Les Miserables</th>\n",
       "      <td>7.7</td>\n",
       "      <td>PG-13</td>\n",
       "      <td>Drama</td>\n",
       "      <td>158</td>\n",
       "      <td>[u'Hugh Jackman', u'Russell Crowe', u'Anne Hat...</td>\n",
       "    </tr>\n",
       "    <tr>\n",
       "      <th>Les Miserables</th>\n",
       "      <td>7.5</td>\n",
       "      <td>PG-13</td>\n",
       "      <td>Crime</td>\n",
       "      <td>134</td>\n",
       "      <td>[u'Liam Neeson', u'Geoffrey Rush', u'Uma Thurm...</td>\n",
       "    </tr>\n",
       "  </tbody>\n",
       "</table>\n",
       "</div>"
      ],
      "text/plain": [
       "                                 star_rating content_rating      genre  \\\n",
       "title                                                                    \n",
       "Dracula                                  7.6       APPROVED     Horror   \n",
       "Dracula                                  7.5              R     Horror   \n",
       "True Grit                                7.7          PG-13  Adventure   \n",
       "True Grit                                7.4            NaN  Adventure   \n",
       "The Girl with the Dragon Tattoo          7.9              R      Crime   \n",
       "The Girl with the Dragon Tattoo          7.8              R      Crime   \n",
       "Les Miserables                           7.7          PG-13      Drama   \n",
       "Les Miserables                           7.5          PG-13      Crime   \n",
       "\n",
       "                                 duration  \\\n",
       "title                                       \n",
       "Dracula                                85   \n",
       "Dracula                               128   \n",
       "True Grit                             110   \n",
       "True Grit                             128   \n",
       "The Girl with the Dragon Tattoo       158   \n",
       "The Girl with the Dragon Tattoo       152   \n",
       "Les Miserables                        158   \n",
       "Les Miserables                        134   \n",
       "\n",
       "                                                                       actors_list  \n",
       "title                                                                               \n",
       "Dracula                          [u'Bela Lugosi', u'Helen Chandler', u'David Ma...  \n",
       "Dracula                          [u'Gary Oldman', u'Winona Ryder', u'Anthony Ho...  \n",
       "True Grit                        [u'Jeff Bridges', u'Matt Damon', u'Hailee Stei...  \n",
       "True Grit                          [u'John Wayne', u'Kim Darby', u'Glen Campbell']  \n",
       "The Girl with the Dragon Tattoo  [u'Daniel Craig', u'Rooney Mara', u'Christophe...  \n",
       "The Girl with the Dragon Tattoo  [u'Michael Nyqvist', u'Noomi Rapace', u'Ewa Fr...  \n",
       "Les Miserables                   [u'Hugh Jackman', u'Russell Crowe', u'Anne Hat...  \n",
       "Les Miserables                   [u'Liam Neeson', u'Geoffrey Rush', u'Uma Thurm...  "
      ]
     },
     "execution_count": 89,
     "metadata": {},
     "output_type": "execute_result"
    }
   ],
   "source": [
    "# then we can look into the duplicate titles and see that they are no actually duplicates because they are different durations and star different actors. \n",
    "movies.set_index(\"title\", inplace=True)\n",
    "movies.loc[['Dracula', 'True Grit', 'The Girl with the Dragon Tattoo','Les Miserables' ]]"
   ]
  },
  {
   "cell_type": "markdown",
   "metadata": {},
   "source": [
    "#### Calculate the average star rating for each genre, but only include genres with at least 10 movies\n"
   ]
  },
  {
   "cell_type": "code",
   "execution_count": 124,
   "metadata": {},
   "outputs": [
    {
     "data": {
      "text/html": [
       "<div>\n",
       "<style scoped>\n",
       "    .dataframe tbody tr th:only-of-type {\n",
       "        vertical-align: middle;\n",
       "    }\n",
       "\n",
       "    .dataframe tbody tr th {\n",
       "        vertical-align: top;\n",
       "    }\n",
       "\n",
       "    .dataframe thead th {\n",
       "        text-align: right;\n",
       "    }\n",
       "</style>\n",
       "<table border=\"1\" class=\"dataframe\">\n",
       "  <thead>\n",
       "    <tr style=\"text-align: right;\">\n",
       "      <th></th>\n",
       "      <th>star_rating</th>\n",
       "      <th>duration</th>\n",
       "    </tr>\n",
       "    <tr>\n",
       "      <th>genre</th>\n",
       "      <th></th>\n",
       "      <th></th>\n",
       "    </tr>\n",
       "  </thead>\n",
       "  <tbody>\n",
       "    <tr>\n",
       "      <th>Action</th>\n",
       "      <td>7.884559</td>\n",
       "      <td>126.485294</td>\n",
       "    </tr>\n",
       "    <tr>\n",
       "      <th>Adventure</th>\n",
       "      <td>7.933333</td>\n",
       "      <td>134.840000</td>\n",
       "    </tr>\n",
       "    <tr>\n",
       "      <th>Animation</th>\n",
       "      <td>7.914516</td>\n",
       "      <td>96.596774</td>\n",
       "    </tr>\n",
       "    <tr>\n",
       "      <th>Biography</th>\n",
       "      <td>7.862338</td>\n",
       "      <td>131.844156</td>\n",
       "    </tr>\n",
       "    <tr>\n",
       "      <th>Comedy</th>\n",
       "      <td>7.822436</td>\n",
       "      <td>107.602564</td>\n",
       "    </tr>\n",
       "    <tr>\n",
       "      <th>Crime</th>\n",
       "      <td>7.916935</td>\n",
       "      <td>122.298387</td>\n",
       "    </tr>\n",
       "    <tr>\n",
       "      <th>Drama</th>\n",
       "      <td>7.902518</td>\n",
       "      <td>126.539568</td>\n",
       "    </tr>\n",
       "    <tr>\n",
       "      <th>Family</th>\n",
       "      <td>7.850000</td>\n",
       "      <td>107.500000</td>\n",
       "    </tr>\n",
       "    <tr>\n",
       "      <th>Fantasy</th>\n",
       "      <td>7.700000</td>\n",
       "      <td>112.000000</td>\n",
       "    </tr>\n",
       "    <tr>\n",
       "      <th>Film-Noir</th>\n",
       "      <td>8.033333</td>\n",
       "      <td>97.333333</td>\n",
       "    </tr>\n",
       "    <tr>\n",
       "      <th>History</th>\n",
       "      <td>8.000000</td>\n",
       "      <td>66.000000</td>\n",
       "    </tr>\n",
       "    <tr>\n",
       "      <th>Horror</th>\n",
       "      <td>7.806897</td>\n",
       "      <td>102.517241</td>\n",
       "    </tr>\n",
       "    <tr>\n",
       "      <th>Mystery</th>\n",
       "      <td>7.975000</td>\n",
       "      <td>115.625000</td>\n",
       "    </tr>\n",
       "    <tr>\n",
       "      <th>Sci-Fi</th>\n",
       "      <td>7.920000</td>\n",
       "      <td>109.000000</td>\n",
       "    </tr>\n",
       "    <tr>\n",
       "      <th>Thriller</th>\n",
       "      <td>7.680000</td>\n",
       "      <td>114.200000</td>\n",
       "    </tr>\n",
       "    <tr>\n",
       "      <th>Western</th>\n",
       "      <td>8.255556</td>\n",
       "      <td>136.666667</td>\n",
       "    </tr>\n",
       "  </tbody>\n",
       "</table>\n",
       "</div>"
      ],
      "text/plain": [
       "           star_rating    duration\n",
       "genre                             \n",
       "Action        7.884559  126.485294\n",
       "Adventure     7.933333  134.840000\n",
       "Animation     7.914516   96.596774\n",
       "Biography     7.862338  131.844156\n",
       "Comedy        7.822436  107.602564\n",
       "Crime         7.916935  122.298387\n",
       "Drama         7.902518  126.539568\n",
       "Family        7.850000  107.500000\n",
       "Fantasy       7.700000  112.000000\n",
       "Film-Noir     8.033333   97.333333\n",
       "History       8.000000   66.000000\n",
       "Horror        7.806897  102.517241\n",
       "Mystery       7.975000  115.625000\n",
       "Sci-Fi        7.920000  109.000000\n",
       "Thriller      7.680000  114.200000\n",
       "Western       8.255556  136.666667"
      ]
     },
     "execution_count": 124,
     "metadata": {},
     "output_type": "execute_result"
    }
   ],
   "source": [
    "movies.groupby('genre').mean()\n",
    "\n",
    "# It's something like this: movies.loc[:, (movies.groupby('genre').count() > 10)]\n"
   ]
  },
  {
   "cell_type": "markdown",
   "metadata": {},
   "source": [
    "**You only need to choose one of the options below.** However, solving for multiple options would count as \"extra credit\" that could e.g. raise your score from a 2 (\"meets expectations\") to a 3 (\"exceeds expectations\")."
   ]
  },
  {
   "cell_type": "markdown",
   "metadata": {},
   "source": [
    "#### Option 1: manually create a list of relevant genres, then filter using that list"
   ]
  },
  {
   "cell_type": "code",
   "execution_count": null,
   "metadata": {
    "collapsed": true
   },
   "outputs": [],
   "source": [
    "# Answer:"
   ]
  },
  {
   "cell_type": "markdown",
   "metadata": {},
   "source": [
    "#### Option 2: automatically create a list of relevant genres by saving the value_counts and then filtering"
   ]
  },
  {
   "cell_type": "code",
   "execution_count": null,
   "metadata": {
    "collapsed": true
   },
   "outputs": [],
   "source": [
    "# Answer:"
   ]
  },
  {
   "cell_type": "markdown",
   "metadata": {},
   "source": [
    "#### Option 3: calculate the average star rating for all genres, then filter using a boolean Series"
   ]
  },
  {
   "cell_type": "code",
   "execution_count": 136,
   "metadata": {
    "collapsed": true
   },
   "outputs": [
    {
     "data": {
      "text/plain": [
       "title\n",
       "The Shawshank Redemption                                      Crime\n",
       "The Godfather                                                 Crime\n",
       "The Godfather: Part II                                        Crime\n",
       "The Dark Knight                                              Action\n",
       "Pulp Fiction                                                  Crime\n",
       "12 Angry Men                                                  Drama\n",
       "The Good, the Bad and the Ugly                              Western\n",
       "The Lord of the Rings: The Return of the King             Adventure\n",
       "Schindler's List                                          Biography\n",
       "Fight Club                                                    Drama\n",
       "The Lord of the Rings: The Fellowship of the Ring         Adventure\n",
       "Inception                                                    Action\n",
       "Star Wars: Episode V - The Empire Strikes Back               Action\n",
       "Forrest Gump                                                  Drama\n",
       "The Lord of the Rings: The Two Towers                     Adventure\n",
       "Interstellar                                              Adventure\n",
       "One Flew Over the Cuckoo's Nest                               Drama\n",
       "Seven Samurai                                                 Drama\n",
       "Goodfellas                                                Biography\n",
       "Star Wars                                                    Action\n",
       "The Matrix                                                   Action\n",
       "City of God                                                   Crime\n",
       "It's a Wonderful Life                                         Drama\n",
       "The Usual Suspects                                            Crime\n",
       "Se7en                                                         Drama\n",
       "Life Is Beautiful                                            Comedy\n",
       "Once Upon a Time in the West                                Western\n",
       "The Silence of the Lambs                                      Drama\n",
       "Leon: The Professional                                        Crime\n",
       "City Lights                                                  Comedy\n",
       "                                                            ...    \n",
       "Jaws                                                          Drama\n",
       "The Raid 2                                                   Action\n",
       "Rocky                                                         Drama\n",
       "Wings of Desire                                               Drama\n",
       "Pirates of the Caribbean: The Curse of the Black Pearl    Adventure\n",
       "The Killing                                                   Crime\n",
       "Papillon                                                  Biography\n",
       "The King's Speech                                         Biography\n",
       "Groundhog Day                                                Comedy\n",
       "A Fistful of Dollars                                         Action\n",
       "Monsters, Inc.                                            Animation\n",
       "Dog Day Afternoon                                             Crime\n",
       "The Perks of Being a Wallflower                               Drama\n",
       "Young Frankenstein                                           Comedy\n",
       "The Terminator                                               Action\n",
       "Harold and Maude                                             Comedy\n",
       "Before Sunset                                                 Drama\n",
       "A Streetcar Named Desire                                      Drama\n",
       "Bringing Up Baby                                             Comedy\n",
       "The Diving Bell and the Butterfly                         Biography\n",
       "His Girl Friday                                              Comedy\n",
       "Sling Blade                                                   Drama\n",
       "All Quiet on the Western Front                                Drama\n",
       "Prisoners                                                     Crime\n",
       "The Return                                                    Drama\n",
       "The Manchurian Candidate                                    Mystery\n",
       "Duck Soup                                                    Comedy\n",
       "Beauty and the Beast                                      Animation\n",
       "The Truman Show                                               Drama\n",
       "The Wild Bunch                                               Action\n",
       "Name: genre, Length: 297, dtype: object"
      ]
     },
     "execution_count": 136,
     "metadata": {},
     "output_type": "execute_result"
    }
   ],
   "source": [
    "# Answer:\n",
    "genre_ratings = movies.groupby('genre')['star_rating'].mean()\n",
    "genre_ratings\n",
    "\n",
    "\n",
    "\n",
    "popular_bool = movies.loc[:, 'star_rating'] > 8\n",
    "movies.loc[popular_bool, 'genre']\n"
   ]
  },
  {
   "cell_type": "markdown",
   "metadata": {},
   "source": [
    "#### Option 4: aggregate by count and mean, then filter using the count"
   ]
  },
  {
   "cell_type": "code",
   "execution_count": 119,
   "metadata": {
    "collapsed": true
   },
   "outputs": [
    {
     "ename": "TypeError",
     "evalue": "Could not convert CrimeCrimeCrimeActionCrimeDramaWesternAdventureBiographyDramaAdventureActionActionDramaAdventureAdventureDramaDramaBiographyActionActionCrimeDramaCrimeDramaComedyWesternDramaCrimeComedyAnimationBiographyDramaDramaCrimeComedyActionActionMysteryHorrorCrimeDramaBiographyActionActionActionMysteryDramaComedyCrimeDramaDramaComedyDramaAdventureAnimationDramaHorrorDramaWesternComedyAnimationHorrorCrimeAnimationCrimeComedyDramaAdventureAnimationComedyAdventureDramaDramaDramaActionMysteryDramaCrimeCrimeActionAnimationActionDramaDramaAdventureCrimeDramaComedyDramaCrimeDramaCrimeComedyComedyDramaActionComedyCrimeBiographyActionAdventureDramaComedyDramaFilm-NoirComedyWesternDramaComedyMysteryComedyCrimeActionAdventureCrimeDramaAnimationActionWesternAdventureDramaCrimeActionBiographyBiographyAnimationDramaAdventureActionDramaAnimationDramaAdventureDramaActionDramaAdventureActionDramaAdventureDramaAdventureBiographyComedySci-FiDramaAnimationBiographyMysteryDramaComedyActionComedyCrimeComedyBiographyDramaDramaDramaAnimationHorrorDramaActionAdventureComedyDramaAnimationDramaCrimeBiographyCrimeDramaActionDramaCrimeCrimeActionCrimeAdventureDramaDramaCrimeComedyDramaDramaHorrorBiographyDramaComedyComedyDramaAnimationAnimationActionDramaActionBiographyActionCrimeCrimeBiographyDramaDramaAdventureDramaAdventureDramaComedyBiographyFilm-NoirDramaCrimeDramaAdventureDramaCrimeCrimeDramaDramaBiographyDramaAdventureDramaAdventureCrimeDramaDramaDramaCrimeDramaComedyDramaCrimeCrimeActionWesternDramaDramaActionActionAnimationDramaDramaMysteryAdventureComedyDramaActionMysteryDramaDramaComedyCrimeComedyComedyAnimationCrimeCrimeDramaBiographyActionDramaWesternMysteryComedyComedyDramaActionDramaDramaAdventureCrimeBiographyBiographyComedyActionAnimationCrimeDramaComedyActionComedyDramaDramaComedyBiographyComedyDramaDramaCrimeDramaMysteryComedyAnimationDramaActionCrimeComedyAdventureCrimeActionBiographyAnimationComedyAnimationComedyDramaAnimationAdventureAdventureDramaActionBiographyComedyComedyDramaHorrorDramaComedyDramaSci-FiHorrorDramaCrimeDramaDramaActionAdventureCrimeHorrorDramaAnimationAdventureDramaDramaAdventureDramaHistoryAdventureBiographyBiographyDramaAnimationDramaDramaBiographyDramaBiographyActionThrillerHorrorComedyHorrorActionDramaComedyAnimationComedyAdventureDramaDramaAdventureDramaDramaCrimeActionComedyAdventureCrimeComedyDramaDramaDramaDramaDramaAdventureDramaAnimationDramaActionAnimationComedyCrimeCrimeActionAnimationDramaActionDramaDramaActionDramaAdventureComedyAnimationDramaDramaDramaComedyBiographyActionDramaActionDramaHorrorDramaCrimeSci-FiActionBiographyActionCrimeCrimeAnimationDramaDramaAnimationBiographyAdventureActionWesternDramaBiographyAdventureCrimeCrimeDramaDramaAdventureDramaDramaDramaActionActionComedyCrimeActionCrimeDramaActionCrimeBiographyAnimationDramaAdventureBiographyBiographyDramaDramaBiographyComedyActionAnimationAdventureActionDramaDramaComedyComedyBiographyAnimationComedyDramaComedyComedyCrimeMysteryFamilyActionActionAnimationComedyDramaCrimeComedyDramaDramaCrimeAdventureComedyDramaCrimeComedySci-FiDramaComedyAnimationActionAnimationDramaActionCrimeCrimeAnimationCrimeThrillerFamilyAnimationDramaBiographyAnimationActionDramaDramaDramaCrimeDramaDramaActionAdventureDramaAnimationHorrorBiographyActionComedyActionAnimationComedyAdventureDramaAdventureDramaComedyDramaDramaComedyDramaActionDramaActionActionActionActionComedyBiographyAdventureDramaActionDramaAnimationComedyDramaDramaComedyComedyBiographyDramaCrimeBiographyAdventureActionComedyBiographyAdventureCrimeComedyDramaDramaBiographyBiographyDramaActionAdventureComedyCrimeActionActionBiographyActionCrimeHorrorActionBiographyDramaAdventureCrimeComedyBiographyComedyActionComedyMysteryComedyBiographyActionCrimeComedyDramaComedyActionDramaComedyDramaComedyCrimeComedyActionComedyDramaBiographyComedyDramaDramaAdventureDramaAnimationComedyDramaActionComedyComedyActionComedyComedyCrimeAnimationDramaActionDramaCrimeComedyActionCrimeAnimationBiographyBiographyDramaAdventureBiographyComedyDramaActionDramaDramaCrimeSci-FiFantasyComedyComedyComedyAdventureDramaDramaDramaComedyDramaCrimeActionComedyCrimeCrimeActionDramaHorrorAnimationAnimationAdventureDramaBiographyActionAdventureComedyAnimationDramaCrimeComedyComedyAnimationCrimeActionDramaDramaAnimationActionDramaCrimeDramaDramaDramaCrimeBiographyActionActionActionActionFilm-NoirHorrorDramaBiographyActionComedyComedyCrimeDramaComedyCrimeAdventureActionBiographyActionDramaHorrorWesternDramaDramaActionHorrorDramaComedyCrimeComedyAnimationComedyComedyDramaActionDramaComedyDramaDramaActionComedyCrimeBiographyActionAdventureThrillerActionCrimeDramaCrimeActionDramaComedyHorrorComedyComedyDramaActionComedyMysteryAnimationActionActionCrimeCrimeActionActionComedyDramaComedyActionAdventureDramaBiographyCrimeAdventureAnimationDramaCrimeDramaBiographyActionActionAnimationActionDramaHorrorDramaComedyComedyDramaDramaDramaBiographyDramaActionHorrorActionComedyBiographyComedyCrimeDramaCrimeActionBiographyAnimationDramaComedyComedyComedyAdventureDramaHorrorCrimeComedyCrimeDramaActionCrimeActionBiographyDramaComedyBiographyComedyActionDramaBiographyActionDramaAdventureActionDramaBiographyBiographyDramaAnimationComedyDramaCrimeBiographyBiographyCrimeDramaCrimeBiographyCrimeDramaActionCrimeDramaAnimationCrimeCrimeDramaComedyBiographyCrimeDramaCrimeAnimationDramaCrimeHorrorThrillerDramaComedyDramaAdventureAnimationDramaCrimeActionComedyActionDramaHorrorDramaDramaMysteryHorrorCrimeMysteryComedyComedyHorrorDramaActionDramaCrimeDramaDramaBiographyDramaComedyDramaComedyHorrorAnimationCrimeActionActionDramaDramaBiographyDramaComedyAdventureBiographyCrimeMysteryDramaActionDramaAdventureComedyAdventureDramaThrillerBiographyDramaHorrorActionCrimeActionAdventureDramaAdventureComedyHorrorDramaCrimeDramaDramaActionComedyCrimeComedyDramaDramaCrimeDramaDramaCrimeComedyComedyBiographyCrimeAdventureComedyComedyAdventureAdventureAdventureAnimationDramaComedyDramaComedyAdventureComedyDramaDramaDramaComedyComedyCrimeDramaComedyAdventureActionDramaComedyComedyDramaComedyComedyBiographyComedyActionBiographyMysteryAnimationActionDramaCrimeDramaComedyDramaDramaComedyAdventureActionHorrorCrime to numeric",
     "output_type": "error",
     "traceback": [
      "\u001b[0;31m---------------------------------------------------------------------------\u001b[0m",
      "\u001b[0;31mValueError\u001b[0m                                Traceback (most recent call last)",
      "\u001b[0;32m~/anaconda3/lib/python3.6/site-packages/pandas/core/nanops.py\u001b[0m in \u001b[0;36m_ensure_numeric\u001b[0;34m(x)\u001b[0m\n\u001b[1;32m    821\u001b[0m         \u001b[0;32mtry\u001b[0m\u001b[0;34m:\u001b[0m\u001b[0;34m\u001b[0m\u001b[0;34m\u001b[0m\u001b[0m\n\u001b[0;32m--> 822\u001b[0;31m             \u001b[0mx\u001b[0m \u001b[0;34m=\u001b[0m \u001b[0mfloat\u001b[0m\u001b[0;34m(\u001b[0m\u001b[0mx\u001b[0m\u001b[0;34m)\u001b[0m\u001b[0;34m\u001b[0m\u001b[0;34m\u001b[0m\u001b[0m\n\u001b[0m\u001b[1;32m    823\u001b[0m         \u001b[0;32mexcept\u001b[0m \u001b[0mException\u001b[0m\u001b[0;34m:\u001b[0m\u001b[0;34m\u001b[0m\u001b[0;34m\u001b[0m\u001b[0m\n",
      "\u001b[0;31mValueError\u001b[0m: could not convert string to float: 'CrimeCrimeCrimeActionCrimeDramaWesternAdventureBiographyDramaAdventureActionActionDramaAdventureAdventureDramaDramaBiographyActionActionCrimeDramaCrimeDramaComedyWesternDramaCrimeComedyAnimationBiographyDramaDramaCrimeComedyActionActionMysteryHorrorCrimeDramaBiographyActionActionActionMysteryDramaComedyCrimeDramaDramaComedyDramaAdventureAnimationDramaHorrorDramaWesternComedyAnimationHorrorCrimeAnimationCrimeComedyDramaAdventureAnimationComedyAdventureDramaDramaDramaActionMysteryDramaCrimeCrimeActionAnimationActionDramaDramaAdventureCrimeDramaComedyDramaCrimeDramaCrimeComedyComedyDramaActionComedyCrimeBiographyActionAdventureDramaComedyDramaFilm-NoirComedyWesternDramaComedyMysteryComedyCrimeActionAdventureCrimeDramaAnimationActionWesternAdventureDramaCrimeActionBiographyBiographyAnimationDramaAdventureActionDramaAnimationDramaAdventureDramaActionDramaAdventureActionDramaAdventureDramaAdventureBiographyComedySci-FiDramaAnimationBiographyMysteryDramaComedyActionComedyCrimeComedyBiographyDramaDramaDramaAnimationHorrorDramaActionAdventureComedyDramaAnimationDramaCrimeBiographyCrimeDramaActionDramaCrimeCrimeActionCrimeAdventureDramaDramaCrimeComedyDramaDramaHorrorBiographyDramaComedyComedyDramaAnimationAnimationActionDramaActionBiographyActionCrimeCrimeBiographyDramaDramaAdventureDramaAdventureDramaComedyBiographyFilm-NoirDramaCrimeDramaAdventureDramaCrimeCrimeDramaDramaBiographyDramaAdventureDramaAdventureCrimeDramaDramaDramaCrimeDramaComedyDramaCrimeCrimeActionWesternDramaDramaActionActionAnimationDramaDramaMysteryAdventureComedyDramaActionMysteryDramaDramaComedyCrimeComedyComedyAnimationCrimeCrimeDramaBiographyActionDramaWesternMysteryComedyComedyDramaActionDramaDramaAdventureCrimeBiographyBiographyComedyActionAnimationCrimeDramaComedyActionComedyDramaDramaComedyBiographyComedyDramaDramaCrimeDramaMysteryComedyAnimationDramaActionCrimeComedyAdventureCrimeActionBiographyAnimationComedyAnimationComedyDramaAnimationAdventureAdventureDramaActionBiographyComedyComedyDramaHorrorDramaComedyDramaSci-FiHorrorDramaCrimeDramaDramaActionAdventureCrimeHorrorDramaAnimationAdventureDramaDramaAdventureDramaHistoryAdventureBiographyBiographyDramaAnimationDramaDramaBiographyDramaBiographyActionThrillerHorrorComedyHorrorActionDramaComedyAnimationComedyAdventureDramaDramaAdventureDramaDramaCrimeActionComedyAdventureCrimeComedyDramaDramaDramaDramaDramaAdventureDramaAnimationDramaActionAnimationComedyCrimeCrimeActionAnimationDramaActionDramaDramaActionDramaAdventureComedyAnimationDramaDramaDramaComedyBiographyActionDramaActionDramaHorrorDramaCrimeSci-FiActionBiographyActionCrimeCrimeAnimationDramaDramaAnimationBiographyAdventureActionWesternDramaBiographyAdventureCrimeCrimeDramaDramaAdventureDramaDramaDramaActionActionComedyCrimeActionCrimeDramaActionCrimeBiographyAnimationDramaAdventureBiographyBiographyDramaDramaBiographyComedyActionAnimationAdventureActionDramaDramaComedyComedyBiographyAnimationComedyDramaComedyComedyCrimeMysteryFamilyActionActionAnimationComedyDramaCrimeComedyDramaDramaCrimeAdventureComedyDramaCrimeComedySci-FiDramaComedyAnimationActionAnimationDramaActionCrimeCrimeAnimationCrimeThrillerFamilyAnimationDramaBiographyAnimationActionDramaDramaDramaCrimeDramaDramaActionAdventureDramaAnimationHorrorBiographyActionComedyActionAnimationComedyAdventureDramaAdventureDramaComedyDramaDramaComedyDramaActionDramaActionActionActionActionComedyBiographyAdventureDramaActionDramaAnimationComedyDramaDramaComedyComedyBiographyDramaCrimeBiographyAdventureActionComedyBiographyAdventureCrimeComedyDramaDramaBiographyBiographyDramaActionAdventureComedyCrimeActionActionBiographyActionCrimeHorrorActionBiographyDramaAdventureCrimeComedyBiographyComedyActionComedyMysteryComedyBiographyActionCrimeComedyDramaComedyActionDramaComedyDramaComedyCrimeComedyActionComedyDramaBiographyComedyDramaDramaAdventureDramaAnimationComedyDramaActionComedyComedyActionComedyComedyCrimeAnimationDramaActionDramaCrimeComedyActionCrimeAnimationBiographyBiographyDramaAdventureBiographyComedyDramaActionDramaDramaCrimeSci-FiFantasyComedyComedyComedyAdventureDramaDramaDramaComedyDramaCrimeActionComedyCrimeCrimeActionDramaHorrorAnimationAnimationAdventureDramaBiographyActionAdventureComedyAnimationDramaCrimeComedyComedyAnimationCrimeActionDramaDramaAnimationActionDramaCrimeDramaDramaDramaCrimeBiographyActionActionActionActionFilm-NoirHorrorDramaBiographyActionComedyComedyCrimeDramaComedyCrimeAdventureActionBiographyActionDramaHorrorWesternDramaDramaActionHorrorDramaComedyCrimeComedyAnimationComedyComedyDramaActionDramaComedyDramaDramaActionComedyCrimeBiographyActionAdventureThrillerActionCrimeDramaCrimeActionDramaComedyHorrorComedyComedyDramaActionComedyMysteryAnimationActionActionCrimeCrimeActionActionComedyDramaComedyActionAdventureDramaBiographyCrimeAdventureAnimationDramaCrimeDramaBiographyActionActionAnimationActionDramaHorrorDramaComedyComedyDramaDramaDramaBiographyDramaActionHorrorActionComedyBiographyComedyCrimeDramaCrimeActionBiographyAnimationDramaComedyComedyComedyAdventureDramaHorrorCrimeComedyCrimeDramaActionCrimeActionBiographyDramaComedyBiographyComedyActionDramaBiographyActionDramaAdventureActionDramaBiographyBiographyDramaAnimationComedyDramaCrimeBiographyBiographyCrimeDramaCrimeBiographyCrimeDramaActionCrimeDramaAnimationCrimeCrimeDramaComedyBiographyCrimeDramaCrimeAnimationDramaCrimeHorrorThrillerDramaComedyDramaAdventureAnimationDramaCrimeActionComedyActionDramaHorrorDramaDramaMysteryHorrorCrimeMysteryComedyComedyHorrorDramaActionDramaCrimeDramaDramaBiographyDramaComedyDramaComedyHorrorAnimationCrimeActionActionDramaDramaBiographyDramaComedyAdventureBiographyCrimeMysteryDramaActionDramaAdventureComedyAdventureDramaThrillerBiographyDramaHorrorActionCrimeActionAdventureDramaAdventureComedyHorrorDramaCrimeDramaDramaActionComedyCrimeComedyDramaDramaCrimeDramaDramaCrimeComedyComedyBiographyCrimeAdventureComedyComedyAdventureAdventureAdventureAnimationDramaComedyDramaComedyAdventureComedyDramaDramaDramaComedyComedyCrimeDramaComedyAdventureActionDramaComedyComedyDramaComedyComedyBiographyComedyActionBiographyMysteryAnimationActionDramaCrimeDramaComedyDramaDramaComedyAdventureActionHorrorCrime'",
      "\nDuring handling of the above exception, another exception occurred:\n",
      "\u001b[0;31mValueError\u001b[0m                                Traceback (most recent call last)",
      "\u001b[0;32m~/anaconda3/lib/python3.6/site-packages/pandas/core/nanops.py\u001b[0m in \u001b[0;36m_ensure_numeric\u001b[0;34m(x)\u001b[0m\n\u001b[1;32m    824\u001b[0m             \u001b[0;32mtry\u001b[0m\u001b[0;34m:\u001b[0m\u001b[0;34m\u001b[0m\u001b[0;34m\u001b[0m\u001b[0m\n\u001b[0;32m--> 825\u001b[0;31m                 \u001b[0mx\u001b[0m \u001b[0;34m=\u001b[0m \u001b[0mcomplex\u001b[0m\u001b[0;34m(\u001b[0m\u001b[0mx\u001b[0m\u001b[0;34m)\u001b[0m\u001b[0;34m\u001b[0m\u001b[0;34m\u001b[0m\u001b[0m\n\u001b[0m\u001b[1;32m    826\u001b[0m             \u001b[0;32mexcept\u001b[0m \u001b[0mException\u001b[0m\u001b[0;34m:\u001b[0m\u001b[0;34m\u001b[0m\u001b[0;34m\u001b[0m\u001b[0m\n",
      "\u001b[0;31mValueError\u001b[0m: complex() arg is a malformed string",
      "\nDuring handling of the above exception, another exception occurred:\n",
      "\u001b[0;31mTypeError\u001b[0m                                 Traceback (most recent call last)",
      "\u001b[0;32m~/anaconda3/lib/python3.6/site-packages/pandas/core/nanops.py\u001b[0m in \u001b[0;36mf\u001b[0;34m(values, axis, skipna, **kwds)\u001b[0m\n\u001b[1;32m    127\u001b[0m                 \u001b[0;32melse\u001b[0m\u001b[0;34m:\u001b[0m\u001b[0;34m\u001b[0m\u001b[0;34m\u001b[0m\u001b[0m\n\u001b[0;32m--> 128\u001b[0;31m                     \u001b[0mresult\u001b[0m \u001b[0;34m=\u001b[0m \u001b[0malt\u001b[0m\u001b[0;34m(\u001b[0m\u001b[0mvalues\u001b[0m\u001b[0;34m,\u001b[0m \u001b[0maxis\u001b[0m\u001b[0;34m=\u001b[0m\u001b[0maxis\u001b[0m\u001b[0;34m,\u001b[0m \u001b[0mskipna\u001b[0m\u001b[0;34m=\u001b[0m\u001b[0mskipna\u001b[0m\u001b[0;34m,\u001b[0m \u001b[0;34m**\u001b[0m\u001b[0mkwds\u001b[0m\u001b[0;34m)\u001b[0m\u001b[0;34m\u001b[0m\u001b[0;34m\u001b[0m\u001b[0m\n\u001b[0m\u001b[1;32m    129\u001b[0m             \u001b[0;32mexcept\u001b[0m \u001b[0mException\u001b[0m\u001b[0;34m:\u001b[0m\u001b[0;34m\u001b[0m\u001b[0;34m\u001b[0m\u001b[0m\n",
      "\u001b[0;32m~/anaconda3/lib/python3.6/site-packages/pandas/core/nanops.py\u001b[0m in \u001b[0;36mnanmean\u001b[0;34m(values, axis, skipna)\u001b[0m\n\u001b[1;32m    354\u001b[0m     \u001b[0mcount\u001b[0m \u001b[0;34m=\u001b[0m \u001b[0m_get_counts\u001b[0m\u001b[0;34m(\u001b[0m\u001b[0mmask\u001b[0m\u001b[0;34m,\u001b[0m \u001b[0maxis\u001b[0m\u001b[0;34m,\u001b[0m \u001b[0mdtype\u001b[0m\u001b[0;34m=\u001b[0m\u001b[0mdtype_count\u001b[0m\u001b[0;34m)\u001b[0m\u001b[0;34m\u001b[0m\u001b[0;34m\u001b[0m\u001b[0m\n\u001b[0;32m--> 355\u001b[0;31m     \u001b[0mthe_sum\u001b[0m \u001b[0;34m=\u001b[0m \u001b[0m_ensure_numeric\u001b[0m\u001b[0;34m(\u001b[0m\u001b[0mvalues\u001b[0m\u001b[0;34m.\u001b[0m\u001b[0msum\u001b[0m\u001b[0;34m(\u001b[0m\u001b[0maxis\u001b[0m\u001b[0;34m,\u001b[0m \u001b[0mdtype\u001b[0m\u001b[0;34m=\u001b[0m\u001b[0mdtype_sum\u001b[0m\u001b[0;34m)\u001b[0m\u001b[0;34m)\u001b[0m\u001b[0;34m\u001b[0m\u001b[0;34m\u001b[0m\u001b[0m\n\u001b[0m\u001b[1;32m    356\u001b[0m \u001b[0;34m\u001b[0m\u001b[0m\n",
      "\u001b[0;32m~/anaconda3/lib/python3.6/site-packages/pandas/core/nanops.py\u001b[0m in \u001b[0;36m_ensure_numeric\u001b[0;34m(x)\u001b[0m\n\u001b[1;32m    827\u001b[0m                 raise TypeError('Could not convert {value!s} to numeric'\n\u001b[0;32m--> 828\u001b[0;31m                                 .format(value=x))\n\u001b[0m\u001b[1;32m    829\u001b[0m     \u001b[0;32mreturn\u001b[0m \u001b[0mx\u001b[0m\u001b[0;34m\u001b[0m\u001b[0;34m\u001b[0m\u001b[0m\n",
      "\u001b[0;31mTypeError\u001b[0m: Could not convert CrimeCrimeCrimeActionCrimeDramaWesternAdventureBiographyDramaAdventureActionActionDramaAdventureAdventureDramaDramaBiographyActionActionCrimeDramaCrimeDramaComedyWesternDramaCrimeComedyAnimationBiographyDramaDramaCrimeComedyActionActionMysteryHorrorCrimeDramaBiographyActionActionActionMysteryDramaComedyCrimeDramaDramaComedyDramaAdventureAnimationDramaHorrorDramaWesternComedyAnimationHorrorCrimeAnimationCrimeComedyDramaAdventureAnimationComedyAdventureDramaDramaDramaActionMysteryDramaCrimeCrimeActionAnimationActionDramaDramaAdventureCrimeDramaComedyDramaCrimeDramaCrimeComedyComedyDramaActionComedyCrimeBiographyActionAdventureDramaComedyDramaFilm-NoirComedyWesternDramaComedyMysteryComedyCrimeActionAdventureCrimeDramaAnimationActionWesternAdventureDramaCrimeActionBiographyBiographyAnimationDramaAdventureActionDramaAnimationDramaAdventureDramaActionDramaAdventureActionDramaAdventureDramaAdventureBiographyComedySci-FiDramaAnimationBiographyMysteryDramaComedyActionComedyCrimeComedyBiographyDramaDramaDramaAnimationHorrorDramaActionAdventureComedyDramaAnimationDramaCrimeBiographyCrimeDramaActionDramaCrimeCrimeActionCrimeAdventureDramaDramaCrimeComedyDramaDramaHorrorBiographyDramaComedyComedyDramaAnimationAnimationActionDramaActionBiographyActionCrimeCrimeBiographyDramaDramaAdventureDramaAdventureDramaComedyBiographyFilm-NoirDramaCrimeDramaAdventureDramaCrimeCrimeDramaDramaBiographyDramaAdventureDramaAdventureCrimeDramaDramaDramaCrimeDramaComedyDramaCrimeCrimeActionWesternDramaDramaActionActionAnimationDramaDramaMysteryAdventureComedyDramaActionMysteryDramaDramaComedyCrimeComedyComedyAnimationCrimeCrimeDramaBiographyActionDramaWesternMysteryComedyComedyDramaActionDramaDramaAdventureCrimeBiographyBiographyComedyActionAnimationCrimeDramaComedyActionComedyDramaDramaComedyBiographyComedyDramaDramaCrimeDramaMysteryComedyAnimationDramaActionCrimeComedyAdventureCrimeActionBiographyAnimationComedyAnimationComedyDramaAnimationAdventureAdventureDramaActionBiographyComedyComedyDramaHorrorDramaComedyDramaSci-FiHorrorDramaCrimeDramaDramaActionAdventureCrimeHorrorDramaAnimationAdventureDramaDramaAdventureDramaHistoryAdventureBiographyBiographyDramaAnimationDramaDramaBiographyDramaBiographyActionThrillerHorrorComedyHorrorActionDramaComedyAnimationComedyAdventureDramaDramaAdventureDramaDramaCrimeActionComedyAdventureCrimeComedyDramaDramaDramaDramaDramaAdventureDramaAnimationDramaActionAnimationComedyCrimeCrimeActionAnimationDramaActionDramaDramaActionDramaAdventureComedyAnimationDramaDramaDramaComedyBiographyActionDramaActionDramaHorrorDramaCrimeSci-FiActionBiographyActionCrimeCrimeAnimationDramaDramaAnimationBiographyAdventureActionWesternDramaBiographyAdventureCrimeCrimeDramaDramaAdventureDramaDramaDramaActionActionComedyCrimeActionCrimeDramaActionCrimeBiographyAnimationDramaAdventureBiographyBiographyDramaDramaBiographyComedyActionAnimationAdventureActionDramaDramaComedyComedyBiographyAnimationComedyDramaComedyComedyCrimeMysteryFamilyActionActionAnimationComedyDramaCrimeComedyDramaDramaCrimeAdventureComedyDramaCrimeComedySci-FiDramaComedyAnimationActionAnimationDramaActionCrimeCrimeAnimationCrimeThrillerFamilyAnimationDramaBiographyAnimationActionDramaDramaDramaCrimeDramaDramaActionAdventureDramaAnimationHorrorBiographyActionComedyActionAnimationComedyAdventureDramaAdventureDramaComedyDramaDramaComedyDramaActionDramaActionActionActionActionComedyBiographyAdventureDramaActionDramaAnimationComedyDramaDramaComedyComedyBiographyDramaCrimeBiographyAdventureActionComedyBiographyAdventureCrimeComedyDramaDramaBiographyBiographyDramaActionAdventureComedyCrimeActionActionBiographyActionCrimeHorrorActionBiographyDramaAdventureCrimeComedyBiographyComedyActionComedyMysteryComedyBiographyActionCrimeComedyDramaComedyActionDramaComedyDramaComedyCrimeComedyActionComedyDramaBiographyComedyDramaDramaAdventureDramaAnimationComedyDramaActionComedyComedyActionComedyComedyCrimeAnimationDramaActionDramaCrimeComedyActionCrimeAnimationBiographyBiographyDramaAdventureBiographyComedyDramaActionDramaDramaCrimeSci-FiFantasyComedyComedyComedyAdventureDramaDramaDramaComedyDramaCrimeActionComedyCrimeCrimeActionDramaHorrorAnimationAnimationAdventureDramaBiographyActionAdventureComedyAnimationDramaCrimeComedyComedyAnimationCrimeActionDramaDramaAnimationActionDramaCrimeDramaDramaDramaCrimeBiographyActionActionActionActionFilm-NoirHorrorDramaBiographyActionComedyComedyCrimeDramaComedyCrimeAdventureActionBiographyActionDramaHorrorWesternDramaDramaActionHorrorDramaComedyCrimeComedyAnimationComedyComedyDramaActionDramaComedyDramaDramaActionComedyCrimeBiographyActionAdventureThrillerActionCrimeDramaCrimeActionDramaComedyHorrorComedyComedyDramaActionComedyMysteryAnimationActionActionCrimeCrimeActionActionComedyDramaComedyActionAdventureDramaBiographyCrimeAdventureAnimationDramaCrimeDramaBiographyActionActionAnimationActionDramaHorrorDramaComedyComedyDramaDramaDramaBiographyDramaActionHorrorActionComedyBiographyComedyCrimeDramaCrimeActionBiographyAnimationDramaComedyComedyComedyAdventureDramaHorrorCrimeComedyCrimeDramaActionCrimeActionBiographyDramaComedyBiographyComedyActionDramaBiographyActionDramaAdventureActionDramaBiographyBiographyDramaAnimationComedyDramaCrimeBiographyBiographyCrimeDramaCrimeBiographyCrimeDramaActionCrimeDramaAnimationCrimeCrimeDramaComedyBiographyCrimeDramaCrimeAnimationDramaCrimeHorrorThrillerDramaComedyDramaAdventureAnimationDramaCrimeActionComedyActionDramaHorrorDramaDramaMysteryHorrorCrimeMysteryComedyComedyHorrorDramaActionDramaCrimeDramaDramaBiographyDramaComedyDramaComedyHorrorAnimationCrimeActionActionDramaDramaBiographyDramaComedyAdventureBiographyCrimeMysteryDramaActionDramaAdventureComedyAdventureDramaThrillerBiographyDramaHorrorActionCrimeActionAdventureDramaAdventureComedyHorrorDramaCrimeDramaDramaActionComedyCrimeComedyDramaDramaCrimeDramaDramaCrimeComedyComedyBiographyCrimeAdventureComedyComedyAdventureAdventureAdventureAnimationDramaComedyDramaComedyAdventureComedyDramaDramaDramaComedyComedyCrimeDramaComedyAdventureActionDramaComedyComedyDramaComedyComedyBiographyComedyActionBiographyMysteryAnimationActionDramaCrimeDramaComedyDramaDramaComedyAdventureActionHorrorCrime to numeric",
      "\nDuring handling of the above exception, another exception occurred:\n",
      "\u001b[0;31mValueError\u001b[0m                                Traceback (most recent call last)",
      "\u001b[0;32m~/anaconda3/lib/python3.6/site-packages/pandas/core/nanops.py\u001b[0m in \u001b[0;36m_ensure_numeric\u001b[0;34m(x)\u001b[0m\n\u001b[1;32m    821\u001b[0m         \u001b[0;32mtry\u001b[0m\u001b[0;34m:\u001b[0m\u001b[0;34m\u001b[0m\u001b[0;34m\u001b[0m\u001b[0m\n\u001b[0;32m--> 822\u001b[0;31m             \u001b[0mx\u001b[0m \u001b[0;34m=\u001b[0m \u001b[0mfloat\u001b[0m\u001b[0;34m(\u001b[0m\u001b[0mx\u001b[0m\u001b[0;34m)\u001b[0m\u001b[0;34m\u001b[0m\u001b[0;34m\u001b[0m\u001b[0m\n\u001b[0m\u001b[1;32m    823\u001b[0m         \u001b[0;32mexcept\u001b[0m \u001b[0mException\u001b[0m\u001b[0;34m:\u001b[0m\u001b[0;34m\u001b[0m\u001b[0;34m\u001b[0m\u001b[0m\n",
      "\u001b[0;31mValueError\u001b[0m: could not convert string to float: 'CrimeCrimeCrimeActionCrimeDramaWesternAdventureBiographyDramaAdventureActionActionDramaAdventureAdventureDramaDramaBiographyActionActionCrimeDramaCrimeDramaComedyWesternDramaCrimeComedyAnimationBiographyDramaDramaCrimeComedyActionActionMysteryHorrorCrimeDramaBiographyActionActionActionMysteryDramaComedyCrimeDramaDramaComedyDramaAdventureAnimationDramaHorrorDramaWesternComedyAnimationHorrorCrimeAnimationCrimeComedyDramaAdventureAnimationComedyAdventureDramaDramaDramaActionMysteryDramaCrimeCrimeActionAnimationActionDramaDramaAdventureCrimeDramaComedyDramaCrimeDramaCrimeComedyComedyDramaActionComedyCrimeBiographyActionAdventureDramaComedyDramaFilm-NoirComedyWesternDramaComedyMysteryComedyCrimeActionAdventureCrimeDramaAnimationActionWesternAdventureDramaCrimeActionBiographyBiographyAnimationDramaAdventureActionDramaAnimationDramaAdventureDramaActionDramaAdventureActionDramaAdventureDramaAdventureBiographyComedySci-FiDramaAnimationBiographyMysteryDramaComedyActionComedyCrimeComedyBiographyDramaDramaDramaAnimationHorrorDramaActionAdventureComedyDramaAnimationDramaCrimeBiographyCrimeDramaActionDramaCrimeCrimeActionCrimeAdventureDramaDramaCrimeComedyDramaDramaHorrorBiographyDramaComedyComedyDramaAnimationAnimationActionDramaActionBiographyActionCrimeCrimeBiographyDramaDramaAdventureDramaAdventureDramaComedyBiographyFilm-NoirDramaCrimeDramaAdventureDramaCrimeCrimeDramaDramaBiographyDramaAdventureDramaAdventureCrimeDramaDramaDramaCrimeDramaComedyDramaCrimeCrimeActionWesternDramaDramaActionActionAnimationDramaDramaMysteryAdventureComedyDramaActionMysteryDramaDramaComedyCrimeComedyComedyAnimationCrimeCrimeDramaBiographyActionDramaWesternMysteryComedyComedyDramaActionDramaDramaAdventureCrimeBiographyBiographyComedyActionAnimationCrimeDramaComedyActionComedyDramaDramaComedyBiographyComedyDramaDramaCrimeDramaMysteryComedyAnimationDramaActionCrimeComedyAdventureCrimeActionBiographyAnimationComedyAnimationComedyDramaAnimationAdventureAdventureDramaActionBiographyComedyComedyDramaHorrorDramaComedyDramaSci-FiHorrorDramaCrimeDramaDramaActionAdventureCrimeHorrorDramaAnimationAdventureDramaDramaAdventureDramaHistoryAdventureBiographyBiographyDramaAnimationDramaDramaBiographyDramaBiographyActionThrillerHorrorComedyHorrorActionDramaComedyAnimationComedyAdventureDramaDramaAdventureDramaDramaCrimeActionComedyAdventureCrimeComedyDramaDramaDramaDramaDramaAdventureDramaAnimationDramaActionAnimationComedyCrimeCrimeActionAnimationDramaActionDramaDramaActionDramaAdventureComedyAnimationDramaDramaDramaComedyBiographyActionDramaActionDramaHorrorDramaCrimeSci-FiActionBiographyActionCrimeCrimeAnimationDramaDramaAnimationBiographyAdventureActionWesternDramaBiographyAdventureCrimeCrimeDramaDramaAdventureDramaDramaDramaActionActionComedyCrimeActionCrimeDramaActionCrimeBiographyAnimationDramaAdventureBiographyBiographyDramaDramaBiographyComedyActionAnimationAdventureActionDramaDramaComedyComedyBiographyAnimationComedyDramaComedyComedyCrimeMysteryFamilyActionActionAnimationComedyDramaCrimeComedyDramaDramaCrimeAdventureComedyDramaCrimeComedySci-FiDramaComedyAnimationActionAnimationDramaActionCrimeCrimeAnimationCrimeThrillerFamilyAnimationDramaBiographyAnimationActionDramaDramaDramaCrimeDramaDramaActionAdventureDramaAnimationHorrorBiographyActionComedyActionAnimationComedyAdventureDramaAdventureDramaComedyDramaDramaComedyDramaActionDramaActionActionActionActionComedyBiographyAdventureDramaActionDramaAnimationComedyDramaDramaComedyComedyBiographyDramaCrimeBiographyAdventureActionComedyBiographyAdventureCrimeComedyDramaDramaBiographyBiographyDramaActionAdventureComedyCrimeActionActionBiographyActionCrimeHorrorActionBiographyDramaAdventureCrimeComedyBiographyComedyActionComedyMysteryComedyBiographyActionCrimeComedyDramaComedyActionDramaComedyDramaComedyCrimeComedyActionComedyDramaBiographyComedyDramaDramaAdventureDramaAnimationComedyDramaActionComedyComedyActionComedyComedyCrimeAnimationDramaActionDramaCrimeComedyActionCrimeAnimationBiographyBiographyDramaAdventureBiographyComedyDramaActionDramaDramaCrimeSci-FiFantasyComedyComedyComedyAdventureDramaDramaDramaComedyDramaCrimeActionComedyCrimeCrimeActionDramaHorrorAnimationAnimationAdventureDramaBiographyActionAdventureComedyAnimationDramaCrimeComedyComedyAnimationCrimeActionDramaDramaAnimationActionDramaCrimeDramaDramaDramaCrimeBiographyActionActionActionActionFilm-NoirHorrorDramaBiographyActionComedyComedyCrimeDramaComedyCrimeAdventureActionBiographyActionDramaHorrorWesternDramaDramaActionHorrorDramaComedyCrimeComedyAnimationComedyComedyDramaActionDramaComedyDramaDramaActionComedyCrimeBiographyActionAdventureThrillerActionCrimeDramaCrimeActionDramaComedyHorrorComedyComedyDramaActionComedyMysteryAnimationActionActionCrimeCrimeActionActionComedyDramaComedyActionAdventureDramaBiographyCrimeAdventureAnimationDramaCrimeDramaBiographyActionActionAnimationActionDramaHorrorDramaComedyComedyDramaDramaDramaBiographyDramaActionHorrorActionComedyBiographyComedyCrimeDramaCrimeActionBiographyAnimationDramaComedyComedyComedyAdventureDramaHorrorCrimeComedyCrimeDramaActionCrimeActionBiographyDramaComedyBiographyComedyActionDramaBiographyActionDramaAdventureActionDramaBiographyBiographyDramaAnimationComedyDramaCrimeBiographyBiographyCrimeDramaCrimeBiographyCrimeDramaActionCrimeDramaAnimationCrimeCrimeDramaComedyBiographyCrimeDramaCrimeAnimationDramaCrimeHorrorThrillerDramaComedyDramaAdventureAnimationDramaCrimeActionComedyActionDramaHorrorDramaDramaMysteryHorrorCrimeMysteryComedyComedyHorrorDramaActionDramaCrimeDramaDramaBiographyDramaComedyDramaComedyHorrorAnimationCrimeActionActionDramaDramaBiographyDramaComedyAdventureBiographyCrimeMysteryDramaActionDramaAdventureComedyAdventureDramaThrillerBiographyDramaHorrorActionCrimeActionAdventureDramaAdventureComedyHorrorDramaCrimeDramaDramaActionComedyCrimeComedyDramaDramaCrimeDramaDramaCrimeComedyComedyBiographyCrimeAdventureComedyComedyAdventureAdventureAdventureAnimationDramaComedyDramaComedyAdventureComedyDramaDramaDramaComedyComedyCrimeDramaComedyAdventureActionDramaComedyComedyDramaComedyComedyBiographyComedyActionBiographyMysteryAnimationActionDramaCrimeDramaComedyDramaDramaComedyAdventureActionHorrorCrime'",
      "\nDuring handling of the above exception, another exception occurred:\n",
      "\u001b[0;31mValueError\u001b[0m                                Traceback (most recent call last)",
      "\u001b[0;32m~/anaconda3/lib/python3.6/site-packages/pandas/core/nanops.py\u001b[0m in \u001b[0;36m_ensure_numeric\u001b[0;34m(x)\u001b[0m\n\u001b[1;32m    824\u001b[0m             \u001b[0;32mtry\u001b[0m\u001b[0;34m:\u001b[0m\u001b[0;34m\u001b[0m\u001b[0;34m\u001b[0m\u001b[0m\n\u001b[0;32m--> 825\u001b[0;31m                 \u001b[0mx\u001b[0m \u001b[0;34m=\u001b[0m \u001b[0mcomplex\u001b[0m\u001b[0;34m(\u001b[0m\u001b[0mx\u001b[0m\u001b[0;34m)\u001b[0m\u001b[0;34m\u001b[0m\u001b[0;34m\u001b[0m\u001b[0m\n\u001b[0m\u001b[1;32m    826\u001b[0m             \u001b[0;32mexcept\u001b[0m \u001b[0mException\u001b[0m\u001b[0;34m:\u001b[0m\u001b[0;34m\u001b[0m\u001b[0;34m\u001b[0m\u001b[0m\n",
      "\u001b[0;31mValueError\u001b[0m: complex() arg is a malformed string",
      "\nDuring handling of the above exception, another exception occurred:\n",
      "\u001b[0;31mTypeError\u001b[0m                                 Traceback (most recent call last)",
      "\u001b[0;32m<ipython-input-119-8d7d8f1a4863>\u001b[0m in \u001b[0;36m<module>\u001b[0;34m\u001b[0m\n\u001b[1;32m      1\u001b[0m \u001b[0;31m# Answer:\u001b[0m\u001b[0;34m\u001b[0m\u001b[0;34m\u001b[0m\u001b[0;34m\u001b[0m\u001b[0m\n\u001b[1;32m      2\u001b[0m \u001b[0;34m\u001b[0m\u001b[0m\n\u001b[0;32m----> 3\u001b[0;31m \u001b[0mmovies\u001b[0m\u001b[0;34m.\u001b[0m\u001b[0mloc\u001b[0m\u001b[0;34m[\u001b[0m\u001b[0;34m:\u001b[0m\u001b[0;34m,\u001b[0m \u001b[0;34m'genre'\u001b[0m\u001b[0;34m]\u001b[0m\u001b[0;34m.\u001b[0m\u001b[0mmean\u001b[0m\u001b[0;34m(\u001b[0m\u001b[0;34m)\u001b[0m\u001b[0;34m\u001b[0m\u001b[0;34m\u001b[0m\u001b[0m\n\u001b[0m",
      "\u001b[0;32m~/anaconda3/lib/python3.6/site-packages/pandas/core/generic.py\u001b[0m in \u001b[0;36mstat_func\u001b[0;34m(self, axis, skipna, level, numeric_only, **kwargs)\u001b[0m\n\u001b[1;32m   9611\u001b[0m                                       skipna=skipna)\n\u001b[1;32m   9612\u001b[0m         return self._reduce(f, name, axis=axis, skipna=skipna,\n\u001b[0;32m-> 9613\u001b[0;31m                             numeric_only=numeric_only)\n\u001b[0m\u001b[1;32m   9614\u001b[0m \u001b[0;34m\u001b[0m\u001b[0m\n\u001b[1;32m   9615\u001b[0m     \u001b[0;32mreturn\u001b[0m \u001b[0mset_function_name\u001b[0m\u001b[0;34m(\u001b[0m\u001b[0mstat_func\u001b[0m\u001b[0;34m,\u001b[0m \u001b[0mname\u001b[0m\u001b[0;34m,\u001b[0m \u001b[0mcls\u001b[0m\u001b[0;34m)\u001b[0m\u001b[0;34m\u001b[0m\u001b[0;34m\u001b[0m\u001b[0m\n",
      "\u001b[0;32m~/anaconda3/lib/python3.6/site-packages/pandas/core/series.py\u001b[0m in \u001b[0;36m_reduce\u001b[0;34m(self, op, name, axis, skipna, numeric_only, filter_type, **kwds)\u001b[0m\n\u001b[1;32m   3219\u001b[0m                                           'numeric_only.'.format(name))\n\u001b[1;32m   3220\u001b[0m             \u001b[0;32mwith\u001b[0m \u001b[0mnp\u001b[0m\u001b[0;34m.\u001b[0m\u001b[0merrstate\u001b[0m\u001b[0;34m(\u001b[0m\u001b[0mall\u001b[0m\u001b[0;34m=\u001b[0m\u001b[0;34m'ignore'\u001b[0m\u001b[0;34m)\u001b[0m\u001b[0;34m:\u001b[0m\u001b[0;34m\u001b[0m\u001b[0;34m\u001b[0m\u001b[0m\n\u001b[0;32m-> 3221\u001b[0;31m                 \u001b[0;32mreturn\u001b[0m \u001b[0mop\u001b[0m\u001b[0;34m(\u001b[0m\u001b[0mdelegate\u001b[0m\u001b[0;34m,\u001b[0m \u001b[0mskipna\u001b[0m\u001b[0;34m=\u001b[0m\u001b[0mskipna\u001b[0m\u001b[0;34m,\u001b[0m \u001b[0;34m**\u001b[0m\u001b[0mkwds\u001b[0m\u001b[0;34m)\u001b[0m\u001b[0;34m\u001b[0m\u001b[0;34m\u001b[0m\u001b[0m\n\u001b[0m\u001b[1;32m   3222\u001b[0m \u001b[0;34m\u001b[0m\u001b[0m\n\u001b[1;32m   3223\u001b[0m         return delegate._reduce(op=op, name=name, axis=axis, skipna=skipna,\n",
      "\u001b[0;32m~/anaconda3/lib/python3.6/site-packages/pandas/core/nanops.py\u001b[0m in \u001b[0;36m_f\u001b[0;34m(*args, **kwargs)\u001b[0m\n\u001b[1;32m     75\u001b[0m             \u001b[0;32mtry\u001b[0m\u001b[0;34m:\u001b[0m\u001b[0;34m\u001b[0m\u001b[0;34m\u001b[0m\u001b[0m\n\u001b[1;32m     76\u001b[0m                 \u001b[0;32mwith\u001b[0m \u001b[0mnp\u001b[0m\u001b[0;34m.\u001b[0m\u001b[0merrstate\u001b[0m\u001b[0;34m(\u001b[0m\u001b[0minvalid\u001b[0m\u001b[0;34m=\u001b[0m\u001b[0;34m'ignore'\u001b[0m\u001b[0;34m)\u001b[0m\u001b[0;34m:\u001b[0m\u001b[0;34m\u001b[0m\u001b[0;34m\u001b[0m\u001b[0m\n\u001b[0;32m---> 77\u001b[0;31m                     \u001b[0;32mreturn\u001b[0m \u001b[0mf\u001b[0m\u001b[0;34m(\u001b[0m\u001b[0;34m*\u001b[0m\u001b[0margs\u001b[0m\u001b[0;34m,\u001b[0m \u001b[0;34m**\u001b[0m\u001b[0mkwargs\u001b[0m\u001b[0;34m)\u001b[0m\u001b[0;34m\u001b[0m\u001b[0;34m\u001b[0m\u001b[0m\n\u001b[0m\u001b[1;32m     78\u001b[0m             \u001b[0;32mexcept\u001b[0m \u001b[0mValueError\u001b[0m \u001b[0;32mas\u001b[0m \u001b[0me\u001b[0m\u001b[0;34m:\u001b[0m\u001b[0;34m\u001b[0m\u001b[0;34m\u001b[0m\u001b[0m\n\u001b[1;32m     79\u001b[0m                 \u001b[0;31m# we want to transform an object array\u001b[0m\u001b[0;34m\u001b[0m\u001b[0;34m\u001b[0m\u001b[0;34m\u001b[0m\u001b[0m\n",
      "\u001b[0;32m~/anaconda3/lib/python3.6/site-packages/pandas/core/nanops.py\u001b[0m in \u001b[0;36mf\u001b[0;34m(values, axis, skipna, **kwds)\u001b[0m\n\u001b[1;32m    129\u001b[0m             \u001b[0;32mexcept\u001b[0m \u001b[0mException\u001b[0m\u001b[0;34m:\u001b[0m\u001b[0;34m\u001b[0m\u001b[0;34m\u001b[0m\u001b[0m\n\u001b[1;32m    130\u001b[0m                 \u001b[0;32mtry\u001b[0m\u001b[0;34m:\u001b[0m\u001b[0;34m\u001b[0m\u001b[0;34m\u001b[0m\u001b[0m\n\u001b[0;32m--> 131\u001b[0;31m                     \u001b[0mresult\u001b[0m \u001b[0;34m=\u001b[0m \u001b[0malt\u001b[0m\u001b[0;34m(\u001b[0m\u001b[0mvalues\u001b[0m\u001b[0;34m,\u001b[0m \u001b[0maxis\u001b[0m\u001b[0;34m=\u001b[0m\u001b[0maxis\u001b[0m\u001b[0;34m,\u001b[0m \u001b[0mskipna\u001b[0m\u001b[0;34m=\u001b[0m\u001b[0mskipna\u001b[0m\u001b[0;34m,\u001b[0m \u001b[0;34m**\u001b[0m\u001b[0mkwds\u001b[0m\u001b[0;34m)\u001b[0m\u001b[0;34m\u001b[0m\u001b[0;34m\u001b[0m\u001b[0m\n\u001b[0m\u001b[1;32m    132\u001b[0m                 \u001b[0;32mexcept\u001b[0m \u001b[0mValueError\u001b[0m \u001b[0;32mas\u001b[0m \u001b[0me\u001b[0m\u001b[0;34m:\u001b[0m\u001b[0;34m\u001b[0m\u001b[0;34m\u001b[0m\u001b[0m\n\u001b[1;32m    133\u001b[0m                     \u001b[0;31m# we want to transform an object array\u001b[0m\u001b[0;34m\u001b[0m\u001b[0;34m\u001b[0m\u001b[0;34m\u001b[0m\u001b[0m\n",
      "\u001b[0;32m~/anaconda3/lib/python3.6/site-packages/pandas/core/nanops.py\u001b[0m in \u001b[0;36mnanmean\u001b[0;34m(values, axis, skipna)\u001b[0m\n\u001b[1;32m    353\u001b[0m         \u001b[0mdtype_count\u001b[0m \u001b[0;34m=\u001b[0m \u001b[0mdtype\u001b[0m\u001b[0;34m\u001b[0m\u001b[0;34m\u001b[0m\u001b[0m\n\u001b[1;32m    354\u001b[0m     \u001b[0mcount\u001b[0m \u001b[0;34m=\u001b[0m \u001b[0m_get_counts\u001b[0m\u001b[0;34m(\u001b[0m\u001b[0mmask\u001b[0m\u001b[0;34m,\u001b[0m \u001b[0maxis\u001b[0m\u001b[0;34m,\u001b[0m \u001b[0mdtype\u001b[0m\u001b[0;34m=\u001b[0m\u001b[0mdtype_count\u001b[0m\u001b[0;34m)\u001b[0m\u001b[0;34m\u001b[0m\u001b[0;34m\u001b[0m\u001b[0m\n\u001b[0;32m--> 355\u001b[0;31m     \u001b[0mthe_sum\u001b[0m \u001b[0;34m=\u001b[0m \u001b[0m_ensure_numeric\u001b[0m\u001b[0;34m(\u001b[0m\u001b[0mvalues\u001b[0m\u001b[0;34m.\u001b[0m\u001b[0msum\u001b[0m\u001b[0;34m(\u001b[0m\u001b[0maxis\u001b[0m\u001b[0;34m,\u001b[0m \u001b[0mdtype\u001b[0m\u001b[0;34m=\u001b[0m\u001b[0mdtype_sum\u001b[0m\u001b[0;34m)\u001b[0m\u001b[0;34m)\u001b[0m\u001b[0;34m\u001b[0m\u001b[0;34m\u001b[0m\u001b[0m\n\u001b[0m\u001b[1;32m    356\u001b[0m \u001b[0;34m\u001b[0m\u001b[0m\n\u001b[1;32m    357\u001b[0m     \u001b[0;32mif\u001b[0m \u001b[0maxis\u001b[0m \u001b[0;32mis\u001b[0m \u001b[0;32mnot\u001b[0m \u001b[0;32mNone\u001b[0m \u001b[0;32mand\u001b[0m \u001b[0mgetattr\u001b[0m\u001b[0;34m(\u001b[0m\u001b[0mthe_sum\u001b[0m\u001b[0;34m,\u001b[0m \u001b[0;34m'ndim'\u001b[0m\u001b[0;34m,\u001b[0m \u001b[0;32mFalse\u001b[0m\u001b[0;34m)\u001b[0m\u001b[0;34m:\u001b[0m\u001b[0;34m\u001b[0m\u001b[0;34m\u001b[0m\u001b[0m\n",
      "\u001b[0;32m~/anaconda3/lib/python3.6/site-packages/pandas/core/nanops.py\u001b[0m in \u001b[0;36m_ensure_numeric\u001b[0;34m(x)\u001b[0m\n\u001b[1;32m    826\u001b[0m             \u001b[0;32mexcept\u001b[0m \u001b[0mException\u001b[0m\u001b[0;34m:\u001b[0m\u001b[0;34m\u001b[0m\u001b[0;34m\u001b[0m\u001b[0m\n\u001b[1;32m    827\u001b[0m                 raise TypeError('Could not convert {value!s} to numeric'\n\u001b[0;32m--> 828\u001b[0;31m                                 .format(value=x))\n\u001b[0m\u001b[1;32m    829\u001b[0m     \u001b[0;32mreturn\u001b[0m \u001b[0mx\u001b[0m\u001b[0;34m\u001b[0m\u001b[0;34m\u001b[0m\u001b[0m\n\u001b[1;32m    830\u001b[0m \u001b[0;34m\u001b[0m\u001b[0m\n",
      "\u001b[0;31mTypeError\u001b[0m: Could not convert CrimeCrimeCrimeActionCrimeDramaWesternAdventureBiographyDramaAdventureActionActionDramaAdventureAdventureDramaDramaBiographyActionActionCrimeDramaCrimeDramaComedyWesternDramaCrimeComedyAnimationBiographyDramaDramaCrimeComedyActionActionMysteryHorrorCrimeDramaBiographyActionActionActionMysteryDramaComedyCrimeDramaDramaComedyDramaAdventureAnimationDramaHorrorDramaWesternComedyAnimationHorrorCrimeAnimationCrimeComedyDramaAdventureAnimationComedyAdventureDramaDramaDramaActionMysteryDramaCrimeCrimeActionAnimationActionDramaDramaAdventureCrimeDramaComedyDramaCrimeDramaCrimeComedyComedyDramaActionComedyCrimeBiographyActionAdventureDramaComedyDramaFilm-NoirComedyWesternDramaComedyMysteryComedyCrimeActionAdventureCrimeDramaAnimationActionWesternAdventureDramaCrimeActionBiographyBiographyAnimationDramaAdventureActionDramaAnimationDramaAdventureDramaActionDramaAdventureActionDramaAdventureDramaAdventureBiographyComedySci-FiDramaAnimationBiographyMysteryDramaComedyActionComedyCrimeComedyBiographyDramaDramaDramaAnimationHorrorDramaActionAdventureComedyDramaAnimationDramaCrimeBiographyCrimeDramaActionDramaCrimeCrimeActionCrimeAdventureDramaDramaCrimeComedyDramaDramaHorrorBiographyDramaComedyComedyDramaAnimationAnimationActionDramaActionBiographyActionCrimeCrimeBiographyDramaDramaAdventureDramaAdventureDramaComedyBiographyFilm-NoirDramaCrimeDramaAdventureDramaCrimeCrimeDramaDramaBiographyDramaAdventureDramaAdventureCrimeDramaDramaDramaCrimeDramaComedyDramaCrimeCrimeActionWesternDramaDramaActionActionAnimationDramaDramaMysteryAdventureComedyDramaActionMysteryDramaDramaComedyCrimeComedyComedyAnimationCrimeCrimeDramaBiographyActionDramaWesternMysteryComedyComedyDramaActionDramaDramaAdventureCrimeBiographyBiographyComedyActionAnimationCrimeDramaComedyActionComedyDramaDramaComedyBiographyComedyDramaDramaCrimeDramaMysteryComedyAnimationDramaActionCrimeComedyAdventureCrimeActionBiographyAnimationComedyAnimationComedyDramaAnimationAdventureAdventureDramaActionBiographyComedyComedyDramaHorrorDramaComedyDramaSci-FiHorrorDramaCrimeDramaDramaActionAdventureCrimeHorrorDramaAnimationAdventureDramaDramaAdventureDramaHistoryAdventureBiographyBiographyDramaAnimationDramaDramaBiographyDramaBiographyActionThrillerHorrorComedyHorrorActionDramaComedyAnimationComedyAdventureDramaDramaAdventureDramaDramaCrimeActionComedyAdventureCrimeComedyDramaDramaDramaDramaDramaAdventureDramaAnimationDramaActionAnimationComedyCrimeCrimeActionAnimationDramaActionDramaDramaActionDramaAdventureComedyAnimationDramaDramaDramaComedyBiographyActionDramaActionDramaHorrorDramaCrimeSci-FiActionBiographyActionCrimeCrimeAnimationDramaDramaAnimationBiographyAdventureActionWesternDramaBiographyAdventureCrimeCrimeDramaDramaAdventureDramaDramaDramaActionActionComedyCrimeActionCrimeDramaActionCrimeBiographyAnimationDramaAdventureBiographyBiographyDramaDramaBiographyComedyActionAnimationAdventureActionDramaDramaComedyComedyBiographyAnimationComedyDramaComedyComedyCrimeMysteryFamilyActionActionAnimationComedyDramaCrimeComedyDramaDramaCrimeAdventureComedyDramaCrimeComedySci-FiDramaComedyAnimationActionAnimationDramaActionCrimeCrimeAnimationCrimeThrillerFamilyAnimationDramaBiographyAnimationActionDramaDramaDramaCrimeDramaDramaActionAdventureDramaAnimationHorrorBiographyActionComedyActionAnimationComedyAdventureDramaAdventureDramaComedyDramaDramaComedyDramaActionDramaActionActionActionActionComedyBiographyAdventureDramaActionDramaAnimationComedyDramaDramaComedyComedyBiographyDramaCrimeBiographyAdventureActionComedyBiographyAdventureCrimeComedyDramaDramaBiographyBiographyDramaActionAdventureComedyCrimeActionActionBiographyActionCrimeHorrorActionBiographyDramaAdventureCrimeComedyBiographyComedyActionComedyMysteryComedyBiographyActionCrimeComedyDramaComedyActionDramaComedyDramaComedyCrimeComedyActionComedyDramaBiographyComedyDramaDramaAdventureDramaAnimationComedyDramaActionComedyComedyActionComedyComedyCrimeAnimationDramaActionDramaCrimeComedyActionCrimeAnimationBiographyBiographyDramaAdventureBiographyComedyDramaActionDramaDramaCrimeSci-FiFantasyComedyComedyComedyAdventureDramaDramaDramaComedyDramaCrimeActionComedyCrimeCrimeActionDramaHorrorAnimationAnimationAdventureDramaBiographyActionAdventureComedyAnimationDramaCrimeComedyComedyAnimationCrimeActionDramaDramaAnimationActionDramaCrimeDramaDramaDramaCrimeBiographyActionActionActionActionFilm-NoirHorrorDramaBiographyActionComedyComedyCrimeDramaComedyCrimeAdventureActionBiographyActionDramaHorrorWesternDramaDramaActionHorrorDramaComedyCrimeComedyAnimationComedyComedyDramaActionDramaComedyDramaDramaActionComedyCrimeBiographyActionAdventureThrillerActionCrimeDramaCrimeActionDramaComedyHorrorComedyComedyDramaActionComedyMysteryAnimationActionActionCrimeCrimeActionActionComedyDramaComedyActionAdventureDramaBiographyCrimeAdventureAnimationDramaCrimeDramaBiographyActionActionAnimationActionDramaHorrorDramaComedyComedyDramaDramaDramaBiographyDramaActionHorrorActionComedyBiographyComedyCrimeDramaCrimeActionBiographyAnimationDramaComedyComedyComedyAdventureDramaHorrorCrimeComedyCrimeDramaActionCrimeActionBiographyDramaComedyBiographyComedyActionDramaBiographyActionDramaAdventureActionDramaBiographyBiographyDramaAnimationComedyDramaCrimeBiographyBiographyCrimeDramaCrimeBiographyCrimeDramaActionCrimeDramaAnimationCrimeCrimeDramaComedyBiographyCrimeDramaCrimeAnimationDramaCrimeHorrorThrillerDramaComedyDramaAdventureAnimationDramaCrimeActionComedyActionDramaHorrorDramaDramaMysteryHorrorCrimeMysteryComedyComedyHorrorDramaActionDramaCrimeDramaDramaBiographyDramaComedyDramaComedyHorrorAnimationCrimeActionActionDramaDramaBiographyDramaComedyAdventureBiographyCrimeMysteryDramaActionDramaAdventureComedyAdventureDramaThrillerBiographyDramaHorrorActionCrimeActionAdventureDramaAdventureComedyHorrorDramaCrimeDramaDramaActionComedyCrimeComedyDramaDramaCrimeDramaDramaCrimeComedyComedyBiographyCrimeAdventureComedyComedyAdventureAdventureAdventureAnimationDramaComedyDramaComedyAdventureComedyDramaDramaDramaComedyComedyCrimeDramaComedyAdventureActionDramaComedyComedyDramaComedyComedyBiographyComedyActionBiographyMysteryAnimationActionDramaCrimeDramaComedyDramaDramaComedyAdventureActionHorrorCrime to numeric"
     ]
    }
   ],
   "source": [
    "# Answer:\n",
    "\n"
   ]
  },
  {
   "cell_type": "markdown",
   "metadata": {},
   "source": [
    "## Bonus"
   ]
  },
  {
   "cell_type": "markdown",
   "metadata": {},
   "source": [
    "#### Figure out something \"interesting\" using the actors data!"
   ]
  },
  {
   "cell_type": "code",
   "execution_count": null,
   "metadata": {
    "collapsed": true
   },
   "outputs": [],
   "source": []
  }
 ],
 "metadata": {
  "kernelspec": {
   "display_name": "Python 3",
   "language": "python",
   "name": "python3"
  },
  "language_info": {
   "codemirror_mode": {
    "name": "ipython",
    "version": 3
   },
   "file_extension": ".py",
   "mimetype": "text/x-python",
   "name": "python",
   "nbconvert_exporter": "python",
   "pygments_lexer": "ipython3",
   "version": "3.6.7"
  }
 },
 "nbformat": 4,
 "nbformat_minor": 2
}
